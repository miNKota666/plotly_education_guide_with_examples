{
 "cells": [
  {
   "cell_type": "code",
   "execution_count": 1,
   "metadata": {
    "collapsed": true,
    "ExecuteTime": {
     "end_time": "2023-06-25T11:47:58.154983Z",
     "start_time": "2023-06-25T11:47:57.926786Z"
    }
   },
   "outputs": [
    {
     "data": {
      "text/html": "        <script type=\"text/javascript\">\n        window.PlotlyConfig = {MathJaxConfig: 'local'};\n        if (window.MathJax && window.MathJax.Hub && window.MathJax.Hub.Config) {window.MathJax.Hub.Config({SVG: {font: \"STIX-Web\"}});}\n        if (typeof require !== 'undefined') {\n        require.undef(\"plotly\");\n        requirejs.config({\n            paths: {\n                'plotly': ['https://cdn.plot.ly/plotly-2.18.2.min']\n            }\n        });\n        require(['plotly'], function(Plotly) {\n            window._Plotly = Plotly;\n        });\n        }\n        </script>\n        "
     },
     "metadata": {},
     "output_type": "display_data"
    },
    {
     "data": {
      "text/html": "        <script type=\"text/javascript\">\n        window.PlotlyConfig = {MathJaxConfig: 'local'};\n        if (window.MathJax && window.MathJax.Hub && window.MathJax.Hub.Config) {window.MathJax.Hub.Config({SVG: {font: \"STIX-Web\"}});}\n        if (typeof require !== 'undefined') {\n        require.undef(\"plotly\");\n        requirejs.config({\n            paths: {\n                'plotly': ['https://cdn.plot.ly/plotly-2.18.2.min']\n            }\n        });\n        require(['plotly'], function(Plotly) {\n            window._Plotly = Plotly;\n        });\n        }\n        </script>\n        "
     },
     "metadata": {},
     "output_type": "display_data"
    }
   ],
   "source": [
    "import pandas as pd\n",
    "import numpy as np\n",
    "import cufflinks as cf\n",
    "import plotly as py\n",
    "import plotly.io\n",
    "import seaborn as sns\n",
    "import plotly.express as px\n",
    "import plotly.graph_objects as go\n",
    "\n",
    "%matplotlib inline\n",
    "\n",
    "from plotly.offline import  download_plotlyjs, init_notebook_mode, plot, iplot\n",
    "\n",
    "init_notebook_mode(connected = True)\n",
    "cf.go_offline()"
   ]
  },
  {
   "cell_type": "markdown",
   "source": [
    "### INFO\n",
    "\n",
    "I'm using interactive regime which compiles in 1st cell, but for GitHib pull I switch render to 'svg'"
   ],
   "metadata": {
    "collapsed": false
   }
  },
  {
   "cell_type": "code",
   "execution_count": 2,
   "outputs": [
    {
     "data": {
      "text/plain": "Renderers configuration\n-----------------------\n    Default renderer: 'svg'\n    Available renderers:\n        ['plotly_mimetype', 'jupyterlab', 'nteract', 'vscode',\n         'notebook', 'notebook_connected', 'kaggle', 'azure', 'colab',\n         'cocalc', 'databricks', 'json', 'png', 'jpeg', 'jpg', 'svg',\n         'pdf', 'browser', 'firefox', 'chrome', 'chromium', 'iframe',\n         'iframe_connected', 'sphinx_gallery', 'sphinx_gallery_png']"
     },
     "execution_count": 2,
     "metadata": {},
     "output_type": "execute_result"
    }
   ],
   "source": [
    "py.io.renderers.default = 'svg'\n",
    "py.io.renderers"
   ],
   "metadata": {
    "collapsed": false,
    "ExecuteTime": {
     "end_time": "2023-06-25T11:47:58.158474Z",
     "start_time": "2023-06-25T11:47:58.123431Z"
    }
   }
  },
  {
   "cell_type": "markdown",
   "source": [
    "# Histogram"
   ],
   "metadata": {
    "collapsed": false
   }
  },
  {
   "cell_type": "code",
   "execution_count": 3,
   "outputs": [],
   "source": [
    "dice_1 = np.random.randint(1,7, 5000)\n",
    "dice_2 = np.random.randint(1,7, 5000)\n",
    "dice_sum = dice_1 + dice_2"
   ],
   "metadata": {
    "collapsed": false,
    "ExecuteTime": {
     "end_time": "2023-06-25T11:47:58.158606Z",
     "start_time": "2023-06-25T11:47:58.128145Z"
    }
   }
  },
  {
   "cell_type": "code",
   "execution_count": 4,
   "outputs": [],
   "source": [
    "fig = px.histogram(\n",
    "        data_frame = dice_sum,\n",
    "        nbins = 11,\n",
    "        labels = {\n",
    "            'value': 'DICE ROLL',\n",
    "            },\n",
    "        title = '5000 dice roll histogram',\n",
    "        marginal = 'violin',\n",
    "        color_discrete_sequence = ['orange']\n",
    "        )\n",
    "\n",
    "fig = fig.update_layout(\n",
    "        autosize = True,\n",
    "        bargap = 0.1,\n",
    "        showlegend = False,\n",
    "        yaxis_title = 'DICE SUM'\n",
    "        )"
   ],
   "metadata": {
    "collapsed": false,
    "ExecuteTime": {
     "end_time": "2023-06-25T11:47:58.767062Z",
     "start_time": "2023-06-25T11:47:58.133175Z"
    }
   }
  },
  {
   "cell_type": "code",
   "execution_count": 5,
   "outputs": [
    {
     "data": {
      "image/svg+xml": "<svg class=\"main-svg\" xmlns=\"http://www.w3.org/2000/svg\" xmlns:xlink=\"http://www.w3.org/1999/xlink\" width=\"700\" height=\"500\" style=\"\" viewBox=\"0 0 700 500\"><rect x=\"0\" y=\"0\" width=\"700\" height=\"500\" style=\"fill: rgb(17, 17, 17); fill-opacity: 1;\"/><defs id=\"defs-1cdf8d\"><g class=\"clips\"><clipPath id=\"clip1cdf8dxyplot\" class=\"plotclip\"><rect width=\"540\" height=\"234.43200000000002\"/></clipPath><clipPath id=\"clip1cdf8dx2y2plot\" class=\"plotclip\"><rect width=\"540\" height=\"82.368\"/></clipPath><clipPath class=\"axesclip\" id=\"clip1cdf8dx\"><rect x=\"80\" y=\"0\" width=\"540\" height=\"500\"/></clipPath><clipPath class=\"axesclip\" id=\"clip1cdf8dy\"><rect x=\"0\" y=\"185.56799999999998\" width=\"700\" height=\"234.43200000000002\"/></clipPath><clipPath class=\"axesclip\" id=\"clip1cdf8dxy\"><rect x=\"80\" y=\"185.56799999999998\" width=\"540\" height=\"234.43200000000002\"/></clipPath><clipPath class=\"axesclip\" id=\"clip1cdf8dy2\"><rect x=\"0\" y=\"100\" width=\"700\" height=\"82.368\"/></clipPath><clipPath class=\"axesclip\" id=\"clip1cdf8dxy2\"><rect x=\"80\" y=\"100\" width=\"540\" height=\"82.368\"/></clipPath><clipPath class=\"axesclip\" id=\"clip1cdf8dx2\"><rect x=\"80\" y=\"0\" width=\"540\" height=\"500\"/></clipPath><clipPath class=\"axesclip\" id=\"clip1cdf8dx2y\"><rect x=\"80\" y=\"185.56799999999998\" width=\"540\" height=\"234.43200000000002\"/></clipPath><clipPath class=\"axesclip\" id=\"clip1cdf8dx2y2\"><rect x=\"80\" y=\"100\" width=\"540\" height=\"82.368\"/></clipPath></g><g class=\"gradients\"/><g class=\"patterns\"/></defs><g class=\"bglayer\"/><g class=\"layer-below\"><g class=\"imagelayer\"/><g class=\"shapelayer\"/></g><g class=\"cartesianlayer\"><g class=\"subplot xy\"><g class=\"layer-subplot\"><g class=\"shapelayer\"/><g class=\"imagelayer\"/></g><g class=\"minor-gridlayer\"><g class=\"x\"/><g class=\"y\"/></g><g class=\"gridlayer\"><g class=\"x\"/><g class=\"y\"><path class=\"ygrid crisp\" transform=\"translate(0,366.46799999999996)\" d=\"M80,0h540\" style=\"stroke: rgb(40, 52, 66); stroke-opacity: 1; stroke-width: 1px;\"/><path class=\"ygrid crisp\" transform=\"translate(0,312.928)\" d=\"M80,0h540\" style=\"stroke: rgb(40, 52, 66); stroke-opacity: 1; stroke-width: 1px;\"/><path class=\"ygrid crisp\" transform=\"translate(0,259.388)\" d=\"M80,0h540\" style=\"stroke: rgb(40, 52, 66); stroke-opacity: 1; stroke-width: 1px;\"/><path class=\"ygrid crisp\" transform=\"translate(0,205.85799999999998)\" d=\"M80,0h540\" style=\"stroke: rgb(40, 52, 66); stroke-opacity: 1; stroke-width: 1px;\"/></g></g><g class=\"zerolinelayer\"><path class=\"yzl zl crisp\" transform=\"translate(0,419.998)\" d=\"M80,0h540\" style=\"stroke: rgb(40, 52, 66); stroke-opacity: 1; stroke-width: 2px;\"/></g><path class=\"xlines-below\"/><path class=\"ylines-below\"/><g class=\"overlines-below\"/><g class=\"xaxislayer-below\"/><g class=\"yaxislayer-below\"/><g class=\"overaxes-below\"/><g class=\"plot\" transform=\"translate(80,185.56799999999998)\" clip-path=\"url(#clip1cdf8dxyplot)\"><g class=\"barlayer mlayer\"><g class=\"trace bars\" style=\"opacity: 1;\"><g class=\"points\"><g class=\"point\"><path d=\"M46.75,234.43V200.17H83.62V234.43Z\" style=\"vector-effect: none; opacity: 1; stroke-width: 0px; fill: rgb(255, 165, 0); fill-opacity: 1;\"/></g><g class=\"point\"><path d=\"M87.71,234.43V160.28H124.58V234.43Z\" style=\"vector-effect: none; opacity: 1; stroke-width: 0px; fill: rgb(255, 165, 0); fill-opacity: 1;\"/></g><g class=\"point\"><path d=\"M128.68,234.43V115.85H165.54V234.43Z\" style=\"vector-effect: none; opacity: 1; stroke-width: 0px; fill: rgb(255, 165, 0); fill-opacity: 1;\"/></g><g class=\"point\"><path d=\"M169.64,234.43V78.37H206.51V234.43Z\" style=\"vector-effect: none; opacity: 1; stroke-width: 0px; fill: rgb(255, 165, 0); fill-opacity: 1;\"/></g><g class=\"point\"><path d=\"M210.6,234.43V62.58H247.47V234.43Z\" style=\"vector-effect: none; opacity: 1; stroke-width: 0px; fill: rgb(255, 165, 0); fill-opacity: 1;\"/></g><g class=\"point\"><path d=\"M251.57,234.43V11.72H288.43V234.43Z\" style=\"vector-effect: none; opacity: 1; stroke-width: 0px; fill: rgb(255, 165, 0); fill-opacity: 1;\"/></g><g class=\"point\"><path d=\"M292.53,234.43V44.65H329.4V234.43Z\" style=\"vector-effect: none; opacity: 1; stroke-width: 0px; fill: rgb(255, 165, 0); fill-opacity: 1;\"/></g><g class=\"point\"><path d=\"M333.49,234.43V86.4H370.36V234.43Z\" style=\"vector-effect: none; opacity: 1; stroke-width: 0px; fill: rgb(255, 165, 0); fill-opacity: 1;\"/></g><g class=\"point\"><path d=\"M374.46,234.43V124.42H411.32V234.43Z\" style=\"vector-effect: none; opacity: 1; stroke-width: 0px; fill: rgb(255, 165, 0); fill-opacity: 1;\"/></g><g class=\"point\"><path d=\"M415.42,234.43V158.68H452.29V234.43Z\" style=\"vector-effect: none; opacity: 1; stroke-width: 0px; fill: rgb(255, 165, 0); fill-opacity: 1;\"/></g><g class=\"point\"><path d=\"M456.38,234.43V197.22H493.25V234.43Z\" style=\"vector-effect: none; opacity: 1; stroke-width: 0px; fill: rgb(255, 165, 0); fill-opacity: 1;\"/></g></g></g></g></g><g class=\"overplot\"/><path class=\"xlines-above crisp\" d=\"M0,0\" style=\"fill: none;\"/><path class=\"ylines-above crisp\" d=\"M0,0\" style=\"fill: none;\"/><g class=\"overlines-above\"/><g class=\"xaxislayer-above\"><g class=\"xtick\"><text text-anchor=\"middle\" x=\"0\" y=\"433\" transform=\"translate(145.18,0)\" style=\"font-family: 'Open Sans', verdana, arial, sans-serif; font-size: 12px; fill: rgb(242, 245, 250); fill-opacity: 1; white-space: pre; opacity: 1;\">2</text></g><g class=\"xtick\"><text text-anchor=\"middle\" x=\"0\" y=\"433\" style=\"font-family: 'Open Sans', verdana, arial, sans-serif; font-size: 12px; fill: rgb(242, 245, 250); fill-opacity: 1; white-space: pre; opacity: 1;\" transform=\"translate(227.11,0)\">4</text></g><g class=\"xtick\"><text text-anchor=\"middle\" x=\"0\" y=\"433\" style=\"font-family: 'Open Sans', verdana, arial, sans-serif; font-size: 12px; fill: rgb(242, 245, 250); fill-opacity: 1; white-space: pre; opacity: 1;\" transform=\"translate(309.03999999999996,0)\">6</text></g><g class=\"xtick\"><text text-anchor=\"middle\" x=\"0\" y=\"433\" style=\"font-family: 'Open Sans', verdana, arial, sans-serif; font-size: 12px; fill: rgb(242, 245, 250); fill-opacity: 1; white-space: pre; opacity: 1;\" transform=\"translate(390.96,0)\">8</text></g><g class=\"xtick\"><text text-anchor=\"middle\" x=\"0\" y=\"433\" style=\"font-family: 'Open Sans', verdana, arial, sans-serif; font-size: 12px; fill: rgb(242, 245, 250); fill-opacity: 1; white-space: pre; opacity: 1;\" transform=\"translate(472.89,0)\">10</text></g><g class=\"xtick\"><text text-anchor=\"middle\" x=\"0\" y=\"433\" style=\"font-family: 'Open Sans', verdana, arial, sans-serif; font-size: 12px; fill: rgb(242, 245, 250); fill-opacity: 1; white-space: pre; opacity: 1;\" transform=\"translate(554.8199999999999,0)\">12</text></g></g><g class=\"yaxislayer-above\"><g class=\"ytick\"><text text-anchor=\"end\" x=\"79\" y=\"4.199999999999999\" transform=\"translate(0,419.998)\" style=\"font-family: 'Open Sans', verdana, arial, sans-serif; font-size: 12px; fill: rgb(242, 245, 250); fill-opacity: 1; white-space: pre; opacity: 1;\">0</text></g><g class=\"ytick\"><text text-anchor=\"end\" x=\"79\" y=\"4.199999999999999\" style=\"font-family: 'Open Sans', verdana, arial, sans-serif; font-size: 12px; fill: rgb(242, 245, 250); fill-opacity: 1; white-space: pre; opacity: 1;\" transform=\"translate(0,366.46799999999996)\">200</text></g><g class=\"ytick\"><text text-anchor=\"end\" x=\"79\" y=\"4.199999999999999\" style=\"font-family: 'Open Sans', verdana, arial, sans-serif; font-size: 12px; fill: rgb(242, 245, 250); fill-opacity: 1; white-space: pre; opacity: 1;\" transform=\"translate(0,312.928)\">400</text></g><g class=\"ytick\"><text text-anchor=\"end\" x=\"79\" y=\"4.199999999999999\" style=\"font-family: 'Open Sans', verdana, arial, sans-serif; font-size: 12px; fill: rgb(242, 245, 250); fill-opacity: 1; white-space: pre; opacity: 1;\" transform=\"translate(0,259.388)\">600</text></g><g class=\"ytick\"><text text-anchor=\"end\" x=\"79\" y=\"4.199999999999999\" style=\"font-family: 'Open Sans', verdana, arial, sans-serif; font-size: 12px; fill: rgb(242, 245, 250); fill-opacity: 1; white-space: pre; opacity: 1;\" transform=\"translate(0,205.85799999999998)\">800</text></g></g><g class=\"overaxes-above\"/></g><g class=\"subplot x2y2\"><g class=\"layer-subplot\"><g class=\"shapelayer\"/><g class=\"imagelayer\"/></g><g class=\"minor-gridlayer\"><g class=\"x2\"/><g class=\"y2\"/></g><g class=\"gridlayer\"><g class=\"x2\"><path class=\"x2grid crisp\" transform=\"translate(145.18,0)\" d=\"M0,100v82.368\" style=\"stroke: rgb(40, 52, 66); stroke-opacity: 1; stroke-width: 1px;\"/><path class=\"x2grid crisp\" transform=\"translate(227.11,0)\" d=\"M0,100v82.368\" style=\"stroke: rgb(40, 52, 66); stroke-opacity: 1; stroke-width: 1px;\"/><path class=\"x2grid crisp\" transform=\"translate(309.03999999999996,0)\" d=\"M0,100v82.368\" style=\"stroke: rgb(40, 52, 66); stroke-opacity: 1; stroke-width: 1px;\"/><path class=\"x2grid crisp\" transform=\"translate(390.96,0)\" d=\"M0,100v82.368\" style=\"stroke: rgb(40, 52, 66); stroke-opacity: 1; stroke-width: 1px;\"/><path class=\"x2grid crisp\" transform=\"translate(472.89,0)\" d=\"M0,100v82.368\" style=\"stroke: rgb(40, 52, 66); stroke-opacity: 1; stroke-width: 1px;\"/><path class=\"x2grid crisp\" transform=\"translate(554.8199999999999,0)\" d=\"M0,100v82.368\" style=\"stroke: rgb(40, 52, 66); stroke-opacity: 1; stroke-width: 1px;\"/></g><g class=\"y2\"/></g><g class=\"zerolinelayer\"/><path class=\"xlines-below\"/><path class=\"ylines-below\"/><g class=\"overlines-below\"/><g class=\"xaxislayer-below\"/><g class=\"yaxislayer-below\"/><g class=\"overaxes-below\"/><g class=\"plot\" transform=\"translate(80,100)\" clip-path=\"url(#clip1cdf8dx2y2plot)\"><g class=\"violinlayer mlayer\"><g class=\"trace violins\" style=\"opacity: 1;\"><path class=\"violin\" d=\"M27,40.82Q31.21,40.64 33.31,40.52C35.41,40.4 37.52,40.24 39.62,40.08C41.73,39.91 43.83,39.72 45.94,39.53C48.04,39.34 50.15,39.14 52.25,38.95C54.35,38.76 56.46,38.57 58.56,38.4C60.66,38.23 62.77,38.09 64.87,37.95C66.97,37.81 69.08,37.69 71.18,37.55C73.28,37.41 75.39,37.28 77.49,37.12C79.6,36.95 81.71,36.77 83.81,36.56C85.92,36.35 88.02,36.1 90.12,35.86C92.22,35.62 94.33,35.35 96.43,35.12C98.53,34.89 100.64,34.66 102.74,34.47C104.84,34.28 106.95,34.14 109.05,34C111.15,33.86 113.26,33.75 115.36,33.61C117.47,33.47 119.58,33.34 121.68,33.15C123.79,32.96 125.89,32.73 127.99,32.47C130.1,32.21 132.2,31.89 134.3,31.6C136.4,31.31 138.5,31 140.61,30.75C142.71,30.51 144.81,30.29 146.92,30.13C149.02,29.97 151.13,29.89 153.23,29.8C155.34,29.71 157.44,29.68 159.55,29.57C161.65,29.47 163.76,29.35 165.86,29.17C167.97,28.99 170.07,28.74 172.17,28.48C174.27,28.22 176.38,27.89 178.48,27.63C180.58,27.37 182.68,27.1 184.79,26.93C186.89,26.76 189,26.68 191.1,26.63C193.21,26.58 195.31,26.64 197.42,26.66C199.52,26.68 201.63,26.76 203.73,26.74C205.83,26.72 207.94,26.67 210.04,26.55C212.15,26.43 214.25,26.2 216.35,26C218.45,25.79 220.56,25.52 222.66,25.32C224.76,25.12 226.86,24.93 228.97,24.8C231.07,24.67 233.18,24.62 235.29,24.55C237.39,24.48 239.5,24.47 241.6,24.36C243.7,24.25 245.81,24.12 247.91,23.89C250.02,23.66 252.12,23.32 254.22,22.99C256.33,22.66 258.42,22.21 260.53,21.89C262.63,21.58 264.73,21.25 266.84,21.1C268.94,20.95 271.06,20.92 273.16,21C275.27,21.08 277.37,21.34 279.47,21.58C281.58,21.82 283.67,22.18 285.78,22.42C287.88,22.66 289.98,22.9 292.09,23.04C294.19,23.18 296.3,23.22 298.4,23.25C300.5,23.28 302.61,23.22 304.71,23.25C306.82,23.28 308.93,23.32 311.03,23.46C313.14,23.6 315.24,23.84 317.34,24.11C319.45,24.38 321.55,24.77 323.65,25.09C325.75,25.41 327.85,25.76 329.96,26.02C332.06,26.27 334.16,26.48 336.27,26.62C338.37,26.76 340.48,26.8 342.58,26.88C344.69,26.96 346.8,26.99 348.9,27.1C351.01,27.21 353.11,27.35 355.21,27.55C357.32,27.75 359.42,28.04 361.52,28.31C363.62,28.58 365.72,28.92 367.83,29.19C369.93,29.45 372.03,29.71 374.14,29.9C376.24,30.09 378.35,30.2 380.45,30.31C382.56,30.42 384.66,30.45 386.77,30.54C388.87,30.63 390.98,30.71 393.08,30.85C395.18,30.99 397.29,31.18 399.39,31.39C401.49,31.6 403.6,31.86 405.7,32.1C407.8,32.34 409.91,32.6 412.01,32.81C414.11,33.01 416.21,33.19 418.32,33.33C420.42,33.47 422.53,33.56 424.64,33.66C426.74,33.76 428.85,33.83 430.95,33.95C433.05,34.07 435.16,34.19 437.26,34.36C439.36,34.53 441.47,34.75 443.57,34.97C445.67,35.19 447.78,35.46 449.88,35.69C451.98,35.92 454.08,36.16 456.19,36.36C458.29,36.56 460.4,36.73 462.51,36.89C464.61,37.05 466.72,37.17 468.82,37.31C470.92,37.45 473.03,37.57 475.13,37.71C477.23,37.86 479.34,38.01 481.44,38.18C483.54,38.36 485.65,38.56 487.75,38.76C489.85,38.96 491.96,39.19 494.06,39.39C496.17,39.59 498.27,39.8 500.38,39.98C502.48,40.16 504.59,40.32 506.69,40.46Q508.79,40.59 513,40.79L513,41.58Q508.79,41.78 506.69,41.91C504.59,42.04 502.48,42.2 500.38,42.38C498.27,42.56 496.17,42.77 494.06,42.97C491.96,43.17 489.85,43.4 487.75,43.6C485.65,43.8 483.54,44.01 481.44,44.19C479.34,44.37 477.23,44.51 475.13,44.66C473.03,44.8 470.92,44.93 468.82,45.06C466.72,45.2 464.61,45.31 462.51,45.47C460.4,45.63 458.29,45.81 456.19,46.01C454.08,46.21 451.98,46.45 449.88,46.68C447.78,46.91 445.67,47.18 443.57,47.4C441.47,47.62 439.36,47.84 437.26,48.01C435.16,48.18 433.05,48.3 430.95,48.42C428.85,48.54 426.74,48.61 424.64,48.71C422.53,48.81 420.42,48.9 418.32,49.04C416.21,49.18 414.11,49.36 412.01,49.56C409.91,49.76 407.8,50.02 405.7,50.26C403.6,50.5 401.49,50.77 399.39,50.98C397.29,51.19 395.18,51.38 393.08,51.52C390.98,51.66 388.87,51.73 386.77,51.82C384.66,51.91 382.56,51.95 380.45,52.06C378.35,52.17 376.24,52.28 374.14,52.47C372.03,52.66 369.93,52.92 367.83,53.18C365.73,53.44 363.62,53.78 361.52,54.05C359.42,54.32 357.32,54.62 355.21,54.82C353.11,55.02 351.01,55.16 348.9,55.27C346.8,55.38 344.69,55.4 342.58,55.48C340.48,55.56 338.37,55.61 336.27,55.75C334.16,55.9 332.06,56.1 329.96,56.35C327.85,56.61 325.75,56.96 323.65,57.28C321.55,57.6 319.45,57.98 317.34,58.25C315.24,58.52 313.14,58.77 311.03,58.91C308.93,59.05 306.82,59.09 304.71,59.12C302.61,59.15 300.5,59.09 298.4,59.12C296.3,59.15 294.19,59.19 292.09,59.33C289.98,59.47 287.88,59.71 285.78,59.95C283.67,60.19 281.58,60.55 279.47,60.79C277.37,61.02 275.27,61.28 273.16,61.36C271.06,61.44 268.94,61.41 266.84,61.26C264.73,61.11 262.63,60.78 260.53,60.47C258.42,60.16 256.33,59.71 254.22,59.38C252.12,59.05 250.02,58.71 247.91,58.48C245.81,58.25 243.7,58.12 241.6,58.01C239.5,57.9 237.39,57.89 235.29,57.82C233.18,57.75 231.07,57.7 228.97,57.57C226.86,57.44 224.76,57.25 222.66,57.05C220.56,56.85 218.45,56.58 216.35,56.37C214.25,56.17 212.15,55.94 210.04,55.82C207.94,55.7 205.83,55.65 203.73,55.63C201.63,55.61 199.52,55.69 197.42,55.71C195.31,55.73 193.21,55.79 191.1,55.74C189,55.69 186.89,55.6 184.79,55.43C182.68,55.26 180.58,55 178.48,54.74C176.38,54.48 174.27,54.15 172.17,53.89C170.07,53.63 167.97,53.38 165.86,53.2C163.76,53.02 161.65,52.9 159.55,52.8C157.44,52.69 155.34,52.67 153.23,52.57C151.13,52.48 149.02,52.39 146.92,52.23C144.81,52.07 142.71,51.86 140.61,51.62C138.5,51.38 136.4,51.06 134.3,50.77C132.2,50.48 130.1,50.16 127.99,49.9C125.89,49.64 123.79,49.41 121.68,49.22C119.58,49.03 117.47,48.9 115.36,48.76C113.26,48.62 111.15,48.51 109.05,48.37C106.95,48.22 104.84,48.08 102.74,47.89C100.64,47.7 98.53,47.48 96.43,47.25C94.33,47.02 92.22,46.74 90.12,46.5C88.02,46.26 85.92,46.02 83.81,45.81C81.71,45.6 79.6,45.42 77.49,45.25C75.39,45.09 73.28,44.96 71.18,44.82C69.08,44.68 66.97,44.56 64.87,44.42C62.77,44.28 60.66,44.13 58.56,43.96C56.46,43.79 54.35,43.61 52.25,43.42C50.15,43.23 48.04,43.02 45.94,42.83C43.83,42.64 41.73,42.45 39.62,42.29C37.52,42.13 35.41,41.97 33.31,41.85Q31.21,41.73 27,41.55Z\" style=\"vector-effect: none; stroke-width: 2px; stroke: rgb(255, 165, 0); stroke-opacity: 1; fill: rgb(255, 165, 0); fill-opacity: 0.5;\"/><g class=\"points\"/></g></g></g><g class=\"overplot\"/><path class=\"xlines-above crisp\" d=\"M0,0\" style=\"fill: none;\"/><path class=\"ylines-above crisp\" d=\"M0,0\" style=\"fill: none;\"/><g class=\"overlines-above\"/><g class=\"xaxislayer-above\"/><g class=\"yaxislayer-above\"/><g class=\"overaxes-above\"/></g></g><g class=\"polarlayer\"/><g class=\"smithlayer\"/><g class=\"ternarylayer\"/><g class=\"geolayer\"/><g class=\"funnelarealayer\"/><g class=\"pielayer\"/><g class=\"iciclelayer\"/><g class=\"treemaplayer\"/><g class=\"sunburstlayer\"/><g class=\"glimages\"/><defs id=\"topdefs-1cdf8d\"><g class=\"clips\"/></defs><g class=\"layer-above\"><g class=\"imagelayer\"/><g class=\"shapelayer\"/></g><g class=\"infolayer\"><g class=\"g-gtitle\"><text class=\"gtitle\" x=\"35\" y=\"50\" text-anchor=\"start\" dy=\"0em\" style=\"font-family: 'Open Sans', verdana, arial, sans-serif; font-size: 17px; fill: rgb(242, 245, 250); opacity: 1; font-weight: normal; white-space: pre;\">5000 dice roll histogram</text></g><g class=\"g-xtitle\"><text class=\"xtitle\" x=\"350\" y=\"459.8\" text-anchor=\"middle\" style=\"font-family: 'Open Sans', verdana, arial, sans-serif; font-size: 14px; fill: rgb(242, 245, 250); opacity: 1; font-weight: normal; white-space: pre;\">DICE ROLL</text></g><g class=\"g-x2title\"/><g class=\"g-ytitle\"><text class=\"ytitle\" transform=\"rotate(-90,31.809375000000003,302.784)\" x=\"31.809375000000003\" y=\"302.784\" text-anchor=\"middle\" style=\"font-family: 'Open Sans', verdana, arial, sans-serif; font-size: 14px; fill: rgb(242, 245, 250); opacity: 1; font-weight: normal; white-space: pre;\">DICE SUM</text></g><g class=\"g-y2title\"/></g></svg>"
     },
     "metadata": {},
     "output_type": "display_data"
    }
   ],
   "source": [
    "fig.show()"
   ],
   "metadata": {
    "collapsed": false,
    "ExecuteTime": {
     "end_time": "2023-06-25T11:48:00.373256Z",
     "start_time": "2023-06-25T11:47:58.373873Z"
    }
   }
  },
  {
   "cell_type": "code",
   "execution_count": 7,
   "outputs": [],
   "source": [
    "df_tips = px.data.tips()"
   ],
   "metadata": {
    "collapsed": false,
    "ExecuteTime": {
     "end_time": "2023-06-25T11:49:13.900069Z",
     "start_time": "2023-06-25T11:49:13.869360Z"
    }
   }
  },
  {
   "cell_type": "code",
   "execution_count": 8,
   "outputs": [],
   "source": [
    "fig = px.histogram(\n",
    "        data_frame = df_tips,\n",
    "        x = 'tip',\n",
    "        color = 'sex',\n",
    "        nbins = 32\n",
    "        )\n",
    "\n",
    "fig = fig.update_layout(\n",
    "        width = 1200,\n",
    "        height = 500\n",
    "        )"
   ],
   "metadata": {
    "collapsed": false,
    "ExecuteTime": {
     "end_time": "2023-06-25T11:49:14.465282Z",
     "start_time": "2023-06-25T11:49:14.438252Z"
    }
   }
  },
  {
   "cell_type": "code",
   "execution_count": 9,
   "outputs": [
    {
     "data": {
      "image/svg+xml": "<svg class=\"main-svg\" xmlns=\"http://www.w3.org/2000/svg\" xmlns:xlink=\"http://www.w3.org/1999/xlink\" width=\"1200\" height=\"500\" style=\"\" viewBox=\"0 0 1200 500\"><rect x=\"0\" y=\"0\" width=\"1200\" height=\"500\" style=\"fill: rgb(17, 17, 17); fill-opacity: 1;\"/><defs id=\"defs-3fd803\"><g class=\"clips\"><clipPath id=\"clip3fd803xyplot\" class=\"plotclip\"><rect width=\"999\" height=\"360\"/></clipPath><clipPath class=\"axesclip\" id=\"clip3fd803x\"><rect x=\"80\" y=\"0\" width=\"999\" height=\"500\"/></clipPath><clipPath class=\"axesclip\" id=\"clip3fd803y\"><rect x=\"0\" y=\"60\" width=\"1200\" height=\"360\"/></clipPath><clipPath class=\"axesclip\" id=\"clip3fd803xy\"><rect x=\"80\" y=\"60\" width=\"999\" height=\"360\"/></clipPath></g><g class=\"gradients\"/><g class=\"patterns\"/></defs><g class=\"bglayer\"/><g class=\"layer-below\"><g class=\"imagelayer\"/><g class=\"shapelayer\"/></g><g class=\"cartesianlayer\"><g class=\"subplot xy\"><g class=\"layer-subplot\"><g class=\"shapelayer\"/><g class=\"imagelayer\"/></g><g class=\"minor-gridlayer\"><g class=\"x\"/><g class=\"y\"/></g><g class=\"gridlayer\"><g class=\"x\"/><g class=\"y\"><path class=\"ygrid crisp\" transform=\"translate(0,357.82)\" d=\"M80,0h999\" style=\"stroke: rgb(40, 52, 66); stroke-opacity: 1; stroke-width: 1px;\"/><path class=\"ygrid crisp\" transform=\"translate(0,295.64)\" d=\"M80,0h999\" style=\"stroke: rgb(40, 52, 66); stroke-opacity: 1; stroke-width: 1px;\"/><path class=\"ygrid crisp\" transform=\"translate(0,233.45)\" d=\"M80,0h999\" style=\"stroke: rgb(40, 52, 66); stroke-opacity: 1; stroke-width: 1px;\"/><path class=\"ygrid crisp\" transform=\"translate(0,171.26999999999998)\" d=\"M80,0h999\" style=\"stroke: rgb(40, 52, 66); stroke-opacity: 1; stroke-width: 1px;\"/><path class=\"ygrid crisp\" transform=\"translate(0,109.09)\" d=\"M80,0h999\" style=\"stroke: rgb(40, 52, 66); stroke-opacity: 1; stroke-width: 1px;\"/></g></g><g class=\"zerolinelayer\"><path class=\"yzl zl crisp\" transform=\"translate(0,420)\" d=\"M80,0h999\" style=\"stroke: rgb(40, 52, 66); stroke-opacity: 1; stroke-width: 2px;\"/></g><path class=\"xlines-below\"/><path class=\"ylines-below\"/><g class=\"overlines-below\"/><g class=\"xaxislayer-below\"/><g class=\"yaxislayer-below\"/><g class=\"overaxes-below\"/><g class=\"plot\" transform=\"translate(80,60)\" clip-path=\"url(#clip3fd803xyplot)\"><g class=\"barlayer mlayer\"><g class=\"trace bars\" shape-rendering=\"crispEdges\" style=\"opacity: 1;\"><g class=\"points\"><g class=\"point\"><path d=\"M0,360V328.91H52.58V360Z\" style=\"vector-effect: none; opacity: 1; stroke-width: 0px; fill: rgb(99, 110, 250); fill-opacity: 1;\"/></g><g class=\"point\"><path d=\"M52.58,360V297.82H105.16V360Z\" style=\"vector-effect: none; opacity: 1; stroke-width: 0px; fill: rgb(99, 110, 250); fill-opacity: 1;\"/></g><g class=\"point\"><path d=\"M105.16,360V254.29H157.74V360Z\" style=\"vector-effect: none; opacity: 1; stroke-width: 0px; fill: rgb(99, 110, 250); fill-opacity: 1;\"/></g><g class=\"point\"><path d=\"M157.74,360V291.6H210.32V360Z\" style=\"vector-effect: none; opacity: 1; stroke-width: 0px; fill: rgb(99, 110, 250); fill-opacity: 1;\"/></g><g class=\"point\"><path d=\"M210.32,360V254.29H262.89V360Z\" style=\"vector-effect: none; opacity: 1; stroke-width: 0px; fill: rgb(99, 110, 250); fill-opacity: 1;\"/></g><g class=\"point\"><path d=\"M262.89,360V297.82H315.47V360Z\" style=\"vector-effect: none; opacity: 1; stroke-width: 0px; fill: rgb(99, 110, 250); fill-opacity: 1;\"/></g><g class=\"point\"><path d=\"M315.47,360V316.47H368.05V360Z\" style=\"vector-effect: none; opacity: 1; stroke-width: 0px; fill: rgb(99, 110, 250); fill-opacity: 1;\"/></g><g class=\"point\"><path d=\"M368.05,360V347.56H420.63V360Z\" style=\"vector-effect: none; opacity: 1; stroke-width: 0px; fill: rgb(99, 110, 250); fill-opacity: 1;\"/></g><g class=\"point\"><path d=\"M420.63,360V316.47H473.21V360Z\" style=\"vector-effect: none; opacity: 1; stroke-width: 0px; fill: rgb(99, 110, 250); fill-opacity: 1;\"/></g><g class=\"point\"><path d=\"M0,0Z\" style=\"vector-effect: none; opacity: 1; stroke-width: 0px; fill: rgb(99, 110, 250); fill-opacity: 1;\"/></g><g class=\"point\"><path d=\"M0,0Z\" style=\"vector-effect: none; opacity: 1; stroke-width: 0px; fill: rgb(99, 110, 250); fill-opacity: 1;\"/></g><g class=\"point\"><path d=\"M578.37,360V353.78H630.95V360Z\" style=\"vector-effect: none; opacity: 1; stroke-width: 0px; fill: rgb(99, 110, 250); fill-opacity: 1;\"/></g></g></g><g class=\"trace bars\" shape-rendering=\"crispEdges\" style=\"opacity: 1;\"><g class=\"points\"><g class=\"point\"><path d=\"M0,328.91V316.47H52.58V328.91Z\" style=\"vector-effect: none; opacity: 1; stroke-width: 0px; fill: rgb(239, 85, 59); fill-opacity: 1;\"/></g><g class=\"point\"><path d=\"M52.58,297.82V173.45H105.16V297.82Z\" style=\"vector-effect: none; opacity: 1; stroke-width: 0px; fill: rgb(239, 85, 59); fill-opacity: 1;\"/></g><g class=\"point\"><path d=\"M105.16,254.29V18H157.74V254.29Z\" style=\"vector-effect: none; opacity: 1; stroke-width: 0px; fill: rgb(239, 85, 59); fill-opacity: 1;\"/></g><g class=\"point\"><path d=\"M157.74,291.6V198.33H210.32V291.6Z\" style=\"vector-effect: none; opacity: 1; stroke-width: 0px; fill: rgb(239, 85, 59); fill-opacity: 1;\"/></g><g class=\"point\"><path d=\"M210.32,254.29V92.62H262.89V254.29Z\" style=\"vector-effect: none; opacity: 1; stroke-width: 0px; fill: rgb(239, 85, 59); fill-opacity: 1;\"/></g><g class=\"point\"><path d=\"M262.89,297.82V198.33H315.47V297.82Z\" style=\"vector-effect: none; opacity: 1; stroke-width: 0px; fill: rgb(239, 85, 59); fill-opacity: 1;\"/></g><g class=\"point\"><path d=\"M315.47,316.47V229.42H368.05V316.47Z\" style=\"vector-effect: none; opacity: 1; stroke-width: 0px; fill: rgb(239, 85, 59); fill-opacity: 1;\"/></g><g class=\"point\"><path d=\"M368.05,347.56V310.25H420.63V347.56Z\" style=\"vector-effect: none; opacity: 1; stroke-width: 0px; fill: rgb(239, 85, 59); fill-opacity: 1;\"/></g><g class=\"point\"><path d=\"M420.63,316.47V260.51H473.21V316.47Z\" style=\"vector-effect: none; opacity: 1; stroke-width: 0px; fill: rgb(239, 85, 59); fill-opacity: 1;\"/></g><g class=\"point\"><path d=\"M473.21,360V347.56H525.79V360Z\" style=\"vector-effect: none; opacity: 1; stroke-width: 0px; fill: rgb(239, 85, 59); fill-opacity: 1;\"/></g><g class=\"point\"><path d=\"M525.79,360V341.35H578.37V360Z\" style=\"vector-effect: none; opacity: 1; stroke-width: 0px; fill: rgb(239, 85, 59); fill-opacity: 1;\"/></g><g class=\"point\"><path d=\"M578.37,353.78V335.13H630.95V353.78Z\" style=\"vector-effect: none; opacity: 1; stroke-width: 0px; fill: rgb(239, 85, 59); fill-opacity: 1;\"/></g><g class=\"point\"><path d=\"M0,0Z\" style=\"vector-effect: none; opacity: 1; stroke-width: 0px; fill: rgb(239, 85, 59); fill-opacity: 1;\"/></g><g class=\"point\"><path d=\"M683.53,360V353.78H736.11V360Z\" style=\"vector-effect: none; opacity: 1; stroke-width: 0px; fill: rgb(239, 85, 59); fill-opacity: 1;\"/></g><g class=\"point\"><path d=\"M0,0Z\" style=\"vector-effect: none; opacity: 1; stroke-width: 0px; fill: rgb(239, 85, 59); fill-opacity: 1;\"/></g><g class=\"point\"><path d=\"M0,0Z\" style=\"vector-effect: none; opacity: 1; stroke-width: 0px; fill: rgb(239, 85, 59); fill-opacity: 1;\"/></g><g class=\"point\"><path d=\"M841.26,360V353.78H893.84V360Z\" style=\"vector-effect: none; opacity: 1; stroke-width: 0px; fill: rgb(239, 85, 59); fill-opacity: 1;\"/></g><g class=\"point\"><path d=\"M0,0Z\" style=\"vector-effect: none; opacity: 1; stroke-width: 0px; fill: rgb(239, 85, 59); fill-opacity: 1;\"/></g><g class=\"point\"><path d=\"M946.42,360V353.78H999V360Z\" style=\"vector-effect: none; opacity: 1; stroke-width: 0px; fill: rgb(239, 85, 59); fill-opacity: 1;\"/></g></g></g></g></g><g class=\"overplot\"/><path class=\"xlines-above crisp\" d=\"M0,0\" style=\"fill: none;\"/><path class=\"ylines-above crisp\" d=\"M0,0\" style=\"fill: none;\"/><g class=\"overlines-above\"/><g class=\"xaxislayer-above\"><g class=\"xtick\"><text text-anchor=\"middle\" x=\"0\" y=\"433\" transform=\"translate(106.28999999999999,0)\" style=\"font-family: 'Open Sans', verdana, arial, sans-serif; font-size: 12px; fill: rgb(242, 245, 250); fill-opacity: 1; white-space: pre; opacity: 1;\">1</text></g><g class=\"xtick\"><text text-anchor=\"middle\" x=\"0\" y=\"433\" style=\"font-family: 'Open Sans', verdana, arial, sans-serif; font-size: 12px; fill: rgb(242, 245, 250); fill-opacity: 1; white-space: pre; opacity: 1;\" transform=\"translate(211.45,0)\">2</text></g><g class=\"xtick\"><text text-anchor=\"middle\" x=\"0\" y=\"433\" style=\"font-family: 'Open Sans', verdana, arial, sans-serif; font-size: 12px; fill: rgb(242, 245, 250); fill-opacity: 1; white-space: pre; opacity: 1;\" transform=\"translate(316.61,0)\">3</text></g><g class=\"xtick\"><text text-anchor=\"middle\" x=\"0\" y=\"433\" style=\"font-family: 'Open Sans', verdana, arial, sans-serif; font-size: 12px; fill: rgb(242, 245, 250); fill-opacity: 1; white-space: pre; opacity: 1;\" transform=\"translate(421.76,0)\">4</text></g><g class=\"xtick\"><text text-anchor=\"middle\" x=\"0\" y=\"433\" style=\"font-family: 'Open Sans', verdana, arial, sans-serif; font-size: 12px; fill: rgb(242, 245, 250); fill-opacity: 1; white-space: pre; opacity: 1;\" transform=\"translate(526.9200000000001,0)\">5</text></g><g class=\"xtick\"><text text-anchor=\"middle\" x=\"0\" y=\"433\" style=\"font-family: 'Open Sans', verdana, arial, sans-serif; font-size: 12px; fill: rgb(242, 245, 250); fill-opacity: 1; white-space: pre; opacity: 1;\" transform=\"translate(632.08,0)\">6</text></g><g class=\"xtick\"><text text-anchor=\"middle\" x=\"0\" y=\"433\" style=\"font-family: 'Open Sans', verdana, arial, sans-serif; font-size: 12px; fill: rgb(242, 245, 250); fill-opacity: 1; white-space: pre; opacity: 1;\" transform=\"translate(737.24,0)\">7</text></g><g class=\"xtick\"><text text-anchor=\"middle\" x=\"0\" y=\"433\" style=\"font-family: 'Open Sans', verdana, arial, sans-serif; font-size: 12px; fill: rgb(242, 245, 250); fill-opacity: 1; white-space: pre; opacity: 1;\" transform=\"translate(842.39,0)\">8</text></g><g class=\"xtick\"><text text-anchor=\"middle\" x=\"0\" y=\"433\" style=\"font-family: 'Open Sans', verdana, arial, sans-serif; font-size: 12px; fill: rgb(242, 245, 250); fill-opacity: 1; white-space: pre; opacity: 1;\" transform=\"translate(947.55,0)\">9</text></g><g class=\"xtick\"><text text-anchor=\"middle\" x=\"0\" y=\"433\" style=\"font-family: 'Open Sans', verdana, arial, sans-serif; font-size: 12px; fill: rgb(242, 245, 250); fill-opacity: 1; white-space: pre; opacity: 1;\" transform=\"translate(1052.71,0)\">10</text></g></g><g class=\"yaxislayer-above\"><g class=\"ytick\"><text text-anchor=\"end\" x=\"79\" y=\"4.199999999999999\" transform=\"translate(0,420)\" style=\"font-family: 'Open Sans', verdana, arial, sans-serif; font-size: 12px; fill: rgb(242, 245, 250); fill-opacity: 1; white-space: pre; opacity: 1;\">0</text></g><g class=\"ytick\"><text text-anchor=\"end\" x=\"79\" y=\"4.199999999999999\" style=\"font-family: 'Open Sans', verdana, arial, sans-serif; font-size: 12px; fill: rgb(242, 245, 250); fill-opacity: 1; white-space: pre; opacity: 1;\" transform=\"translate(0,357.82)\">10</text></g><g class=\"ytick\"><text text-anchor=\"end\" x=\"79\" y=\"4.199999999999999\" style=\"font-family: 'Open Sans', verdana, arial, sans-serif; font-size: 12px; fill: rgb(242, 245, 250); fill-opacity: 1; white-space: pre; opacity: 1;\" transform=\"translate(0,295.64)\">20</text></g><g class=\"ytick\"><text text-anchor=\"end\" x=\"79\" y=\"4.199999999999999\" style=\"font-family: 'Open Sans', verdana, arial, sans-serif; font-size: 12px; fill: rgb(242, 245, 250); fill-opacity: 1; white-space: pre; opacity: 1;\" transform=\"translate(0,233.45)\">30</text></g><g class=\"ytick\"><text text-anchor=\"end\" x=\"79\" y=\"4.199999999999999\" style=\"font-family: 'Open Sans', verdana, arial, sans-serif; font-size: 12px; fill: rgb(242, 245, 250); fill-opacity: 1; white-space: pre; opacity: 1;\" transform=\"translate(0,171.26999999999998)\">40</text></g><g class=\"ytick\"><text text-anchor=\"end\" x=\"79\" y=\"4.199999999999999\" style=\"font-family: 'Open Sans', verdana, arial, sans-serif; font-size: 12px; fill: rgb(242, 245, 250); fill-opacity: 1; white-space: pre; opacity: 1;\" transform=\"translate(0,109.09)\">50</text></g></g><g class=\"overaxes-above\"/></g></g><g class=\"polarlayer\"/><g class=\"smithlayer\"/><g class=\"ternarylayer\"/><g class=\"geolayer\"/><g class=\"funnelarealayer\"/><g class=\"pielayer\"/><g class=\"iciclelayer\"/><g class=\"treemaplayer\"/><g class=\"sunburstlayer\"/><g class=\"glimages\"/><defs id=\"topdefs-3fd803\"><g class=\"clips\"/><clipPath id=\"legend3fd803\"><rect width=\"89\" height=\"67\" x=\"0\" y=\"0\"/></clipPath></defs><g class=\"layer-above\"><g class=\"imagelayer\"/><g class=\"shapelayer\"/></g><g class=\"infolayer\"><g class=\"legend\" pointer-events=\"all\" transform=\"translate(1098.98,60)\"><rect class=\"bg\" shape-rendering=\"crispEdges\" style=\"stroke: rgb(68, 68, 68); stroke-opacity: 1; fill: rgb(17, 17, 17); fill-opacity: 1; stroke-width: 0px;\" width=\"89\" height=\"67\" x=\"0\" y=\"0\"/><g class=\"scrollbox\" transform=\"\" clip-path=\"url(#legend3fd803)\"><text class=\"legendtitletext\" text-anchor=\"start\" x=\"2\" y=\"18.2\" style=\"font-family: 'Open Sans', verdana, arial, sans-serif; font-size: 14px; fill: rgb(242, 245, 250); fill-opacity: 1; white-space: pre;\">sex</text><g class=\"groups\" transform=\"\"><g class=\"traces\" transform=\"translate(0,32.7)\" style=\"opacity: 1;\"><text class=\"legendtext\" text-anchor=\"start\" x=\"40\" y=\"4.680000000000001\" style=\"font-family: 'Open Sans', verdana, arial, sans-serif; font-size: 12px; fill: rgb(242, 245, 250); fill-opacity: 1; white-space: pre;\">Female</text><g class=\"layers\" style=\"opacity: 1;\"><g class=\"legendfill\"/><g class=\"legendlines\"/><g class=\"legendsymbols\"><g class=\"legendpoints\"><path class=\"legendundefined\" d=\"M6,6H-6V-6H6Z\" transform=\"translate(20,0)\" style=\"stroke-width: 0px; fill: rgb(99, 110, 250); fill-opacity: 1;\"/></g></g></g><rect class=\"legendtoggle\" x=\"0\" y=\"-9.5\" width=\"83.375\" height=\"19\" style=\"fill: rgb(0, 0, 0); fill-opacity: 0;\"/></g></g><g class=\"groups\" transform=\"\"><g class=\"traces\" transform=\"translate(0,51.7)\" style=\"opacity: 1;\"><text class=\"legendtext\" text-anchor=\"start\" x=\"40\" y=\"4.680000000000001\" style=\"font-family: 'Open Sans', verdana, arial, sans-serif; font-size: 12px; fill: rgb(242, 245, 250); fill-opacity: 1; white-space: pre;\">Male</text><g class=\"layers\" style=\"opacity: 1;\"><g class=\"legendfill\"/><g class=\"legendlines\"/><g class=\"legendsymbols\"><g class=\"legendpoints\"><path class=\"legendundefined\" d=\"M6,6H-6V-6H6Z\" transform=\"translate(20,0)\" style=\"stroke-width: 0px; fill: rgb(239, 85, 59); fill-opacity: 1;\"/></g></g></g><rect class=\"legendtoggle\" x=\"0\" y=\"-9.5\" width=\"83.375\" height=\"19\" style=\"fill: rgb(0, 0, 0); fill-opacity: 0;\"/></g></g></g><rect class=\"scrollbar\" rx=\"20\" ry=\"3\" width=\"0\" height=\"0\" style=\"fill: rgb(128, 139, 164); fill-opacity: 1;\" x=\"0\" y=\"0\"/></g><g class=\"g-gtitle\"/><g class=\"g-xtitle\"><text class=\"xtitle\" x=\"579.5\" y=\"459.8\" text-anchor=\"middle\" style=\"font-family: 'Open Sans', verdana, arial, sans-serif; font-size: 14px; fill: rgb(242, 245, 250); opacity: 1; font-weight: normal; white-space: pre;\">tip</text></g><g class=\"g-ytitle\"><text class=\"ytitle\" transform=\"rotate(-90,39.434375,240)\" x=\"39.434375\" y=\"240\" text-anchor=\"middle\" style=\"font-family: 'Open Sans', verdana, arial, sans-serif; font-size: 14px; fill: rgb(242, 245, 250); opacity: 1; font-weight: normal; white-space: pre;\">count</text></g></g></svg>"
     },
     "metadata": {},
     "output_type": "display_data"
    }
   ],
   "source": [
    "fig.show()"
   ],
   "metadata": {
    "collapsed": false,
    "ExecuteTime": {
     "end_time": "2023-06-25T11:49:16.456426Z",
     "start_time": "2023-06-25T11:49:16.374074Z"
    }
   }
  }
 ],
 "metadata": {
  "kernelspec": {
   "display_name": "Python 3",
   "language": "python",
   "name": "python3"
  },
  "language_info": {
   "codemirror_mode": {
    "name": "ipython",
    "version": 2
   },
   "file_extension": ".py",
   "mimetype": "text/x-python",
   "name": "python",
   "nbconvert_exporter": "python",
   "pygments_lexer": "ipython2",
   "version": "2.7.6"
  }
 },
 "nbformat": 4,
 "nbformat_minor": 0
}
