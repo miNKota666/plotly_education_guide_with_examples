{
 "cells": [
  {
   "cell_type": "code",
   "execution_count": 6,
   "metadata": {
    "collapsed": true,
    "ExecuteTime": {
     "end_time": "2023-06-25T12:03:40.638216Z",
     "start_time": "2023-06-25T12:03:40.605884Z"
    }
   },
   "outputs": [
    {
     "data": {
      "text/html": "        <script type=\"text/javascript\">\n        window.PlotlyConfig = {MathJaxConfig: 'local'};\n        if (window.MathJax && window.MathJax.Hub && window.MathJax.Hub.Config) {window.MathJax.Hub.Config({SVG: {font: \"STIX-Web\"}});}\n        if (typeof require !== 'undefined') {\n        require.undef(\"plotly\");\n        requirejs.config({\n            paths: {\n                'plotly': ['https://cdn.plot.ly/plotly-2.18.2.min']\n            }\n        });\n        require(['plotly'], function(Plotly) {\n            window._Plotly = Plotly;\n        });\n        }\n        </script>\n        "
     },
     "metadata": {},
     "output_type": "display_data"
    },
    {
     "data": {
      "text/html": "        <script type=\"text/javascript\">\n        window.PlotlyConfig = {MathJaxConfig: 'local'};\n        if (window.MathJax && window.MathJax.Hub && window.MathJax.Hub.Config) {window.MathJax.Hub.Config({SVG: {font: \"STIX-Web\"}});}\n        if (typeof require !== 'undefined') {\n        require.undef(\"plotly\");\n        requirejs.config({\n            paths: {\n                'plotly': ['https://cdn.plot.ly/plotly-2.18.2.min']\n            }\n        });\n        require(['plotly'], function(Plotly) {\n            window._Plotly = Plotly;\n        });\n        }\n        </script>\n        "
     },
     "metadata": {},
     "output_type": "display_data"
    }
   ],
   "source": [
    "import pandas as pd\n",
    "import numpy as np\n",
    "import cufflinks as cf\n",
    "import plotly as py\n",
    "import plotly.io\n",
    "import seaborn as sns\n",
    "import plotly.express as px\n",
    "\n",
    "%matplotlib inline\n",
    "\n",
    "from plotly.offline import  download_plotlyjs, init_notebook_mode, plot, iplot\n",
    "\n",
    "init_notebook_mode(connected = True)\n",
    "cf.go_offline()"
   ]
  },
  {
   "cell_type": "markdown",
   "source": [
    "### INFO\n",
    "\n",
    "I'm using interactive regime which compiles in 1st cell, but for GitHib pull I switch render to 'svg'"
   ],
   "metadata": {
    "collapsed": false
   }
  },
  {
   "cell_type": "code",
   "execution_count": 7,
   "outputs": [
    {
     "data": {
      "text/plain": "Renderers configuration\n-----------------------\n    Default renderer: 'svg'\n    Available renderers:\n        ['plotly_mimetype', 'jupyterlab', 'nteract', 'vscode',\n         'notebook', 'notebook_connected', 'kaggle', 'azure', 'colab',\n         'cocalc', 'databricks', 'json', 'png', 'jpeg', 'jpg', 'svg',\n         'pdf', 'browser', 'firefox', 'chrome', 'chromium', 'iframe',\n         'iframe_connected', 'sphinx_gallery', 'sphinx_gallery_png']"
     },
     "execution_count": 7,
     "metadata": {},
     "output_type": "execute_result"
    }
   ],
   "source": [
    "py.io.renderers.default = 'svg'\n",
    "py.io.renderers"
   ],
   "metadata": {
    "collapsed": false,
    "ExecuteTime": {
     "end_time": "2023-06-25T12:03:40.639189Z",
     "start_time": "2023-06-25T12:03:40.618099Z"
    }
   }
  },
  {
   "cell_type": "markdown",
   "source": [
    "# Configs"
   ],
   "metadata": {
    "collapsed": false
   }
  },
  {
   "cell_type": "code",
   "execution_count": 8,
   "outputs": [],
   "source": [
    "def font_config(\n",
    "        size: int\n",
    "        ) -> dict:\n",
    "\n",
    "    temp_config = dict(\n",
    "        family = 'Arial',\n",
    "        size = size,\n",
    "        color = 'white',\n",
    "        )\n",
    "\n",
    "    return temp_config\n",
    "\n",
    "\n",
    "x_axis_config = dict(\n",
    "        showline = False,\n",
    "        showgrid = True,\n",
    "        showticklabels = True,\n",
    "        linecolor = 'white',\n",
    "        linewidth = 1,\n",
    "        ticks = 'outside',\n",
    "        tickfont = font_config(size = 18)\n",
    "        )\n",
    "\n",
    "y_axis_config = dict(\n",
    "        showline = False,\n",
    "        showgrid = True,\n",
    "        showticklabels = True,\n",
    "        linecolor = 'white',\n",
    "        linewidth = 1,\n",
    "        ticks = 'outside',\n",
    "        tickfont = font_config(size = 18)\n",
    "        )\n",
    "\n",
    "margin_config = dict(\n",
    "        autoexpand = True,\n",
    "        l = 200,\n",
    "        r = 20,\n",
    "        t = 80,\n",
    "        b = 20\n",
    "        )\n",
    "\n",
    "legend_config = dict(\n",
    "        font = font_config(18)\n",
    "        )"
   ],
   "metadata": {
    "collapsed": false,
    "ExecuteTime": {
     "end_time": "2023-06-25T12:03:40.639247Z",
     "start_time": "2023-06-25T12:03:40.625298Z"
    }
   }
  },
  {
   "cell_type": "markdown",
   "source": [
    "# Pie chart"
   ],
   "metadata": {
    "collapsed": false
   }
  },
  {
   "cell_type": "code",
   "execution_count": 9,
   "outputs": [
    {
     "data": {
      "text/plain": "           country continent  year  lifeExp         pop     gdpPercap  \\\n299          China      Asia  2007   72.961  1318683096   4959.114854   \n707          India      Asia  2007   64.698  1110396331   2452.210407   \n719      Indonesia      Asia  2007   70.650   223547000   3540.651564   \n1175      Pakistan      Asia  2007   65.483   169270617   2605.947580   \n107     Bangladesh      Asia  2007   64.062   150448339   1391.253792   \n803          Japan      Asia  2007   82.603   127467972  31656.068060   \n1223   Philippines      Asia  2007   71.688    91077287   3190.481016   \n1655       Vietnam      Asia  2007   74.249    85262356   2441.576404   \n731           Iran      Asia  2007   70.964    69453570  11605.714490   \n1535      Thailand      Asia  2007   70.616    65068149   7458.396327   \n851    Korea, Rep.      Asia  2007   78.623    49044790  23348.139730   \n1055       Myanmar      Asia  2007   62.069    47761980    944.000000   \n11     Afghanistan      Asia  2007   43.828    31889923    974.580338   \n1079         Nepal      Asia  2007   63.785    28901790   1091.359778   \n1319  Saudi Arabia      Asia  2007   72.777    27601038  21654.831940   \n743           Iraq      Asia  2007   59.545    27499638   4471.061906   \n947       Malaysia      Asia  2007   74.241    24821286  12451.655800   \n\n     iso_alpha  iso_num  \n299        CHN      156  \n707        IND      356  \n719        IDN      360  \n1175       PAK      586  \n107        BGD       50  \n803        JPN      392  \n1223       PHL      608  \n1655       VNM      704  \n731        IRN      364  \n1535       THA      764  \n851        KOR      410  \n1055       MMR      104  \n11         AFG        4  \n1079       NPL      524  \n1319       SAU      682  \n743        IRQ      368  \n947        MYS      458  ",
      "text/html": "<div>\n<style scoped>\n    .dataframe tbody tr th:only-of-type {\n        vertical-align: middle;\n    }\n\n    .dataframe tbody tr th {\n        vertical-align: top;\n    }\n\n    .dataframe thead th {\n        text-align: right;\n    }\n</style>\n<table border=\"1\" class=\"dataframe\">\n  <thead>\n    <tr style=\"text-align: right;\">\n      <th></th>\n      <th>country</th>\n      <th>continent</th>\n      <th>year</th>\n      <th>lifeExp</th>\n      <th>pop</th>\n      <th>gdpPercap</th>\n      <th>iso_alpha</th>\n      <th>iso_num</th>\n    </tr>\n  </thead>\n  <tbody>\n    <tr>\n      <th>299</th>\n      <td>China</td>\n      <td>Asia</td>\n      <td>2007</td>\n      <td>72.961</td>\n      <td>1318683096</td>\n      <td>4959.114854</td>\n      <td>CHN</td>\n      <td>156</td>\n    </tr>\n    <tr>\n      <th>707</th>\n      <td>India</td>\n      <td>Asia</td>\n      <td>2007</td>\n      <td>64.698</td>\n      <td>1110396331</td>\n      <td>2452.210407</td>\n      <td>IND</td>\n      <td>356</td>\n    </tr>\n    <tr>\n      <th>719</th>\n      <td>Indonesia</td>\n      <td>Asia</td>\n      <td>2007</td>\n      <td>70.650</td>\n      <td>223547000</td>\n      <td>3540.651564</td>\n      <td>IDN</td>\n      <td>360</td>\n    </tr>\n    <tr>\n      <th>1175</th>\n      <td>Pakistan</td>\n      <td>Asia</td>\n      <td>2007</td>\n      <td>65.483</td>\n      <td>169270617</td>\n      <td>2605.947580</td>\n      <td>PAK</td>\n      <td>586</td>\n    </tr>\n    <tr>\n      <th>107</th>\n      <td>Bangladesh</td>\n      <td>Asia</td>\n      <td>2007</td>\n      <td>64.062</td>\n      <td>150448339</td>\n      <td>1391.253792</td>\n      <td>BGD</td>\n      <td>50</td>\n    </tr>\n    <tr>\n      <th>803</th>\n      <td>Japan</td>\n      <td>Asia</td>\n      <td>2007</td>\n      <td>82.603</td>\n      <td>127467972</td>\n      <td>31656.068060</td>\n      <td>JPN</td>\n      <td>392</td>\n    </tr>\n    <tr>\n      <th>1223</th>\n      <td>Philippines</td>\n      <td>Asia</td>\n      <td>2007</td>\n      <td>71.688</td>\n      <td>91077287</td>\n      <td>3190.481016</td>\n      <td>PHL</td>\n      <td>608</td>\n    </tr>\n    <tr>\n      <th>1655</th>\n      <td>Vietnam</td>\n      <td>Asia</td>\n      <td>2007</td>\n      <td>74.249</td>\n      <td>85262356</td>\n      <td>2441.576404</td>\n      <td>VNM</td>\n      <td>704</td>\n    </tr>\n    <tr>\n      <th>731</th>\n      <td>Iran</td>\n      <td>Asia</td>\n      <td>2007</td>\n      <td>70.964</td>\n      <td>69453570</td>\n      <td>11605.714490</td>\n      <td>IRN</td>\n      <td>364</td>\n    </tr>\n    <tr>\n      <th>1535</th>\n      <td>Thailand</td>\n      <td>Asia</td>\n      <td>2007</td>\n      <td>70.616</td>\n      <td>65068149</td>\n      <td>7458.396327</td>\n      <td>THA</td>\n      <td>764</td>\n    </tr>\n    <tr>\n      <th>851</th>\n      <td>Korea, Rep.</td>\n      <td>Asia</td>\n      <td>2007</td>\n      <td>78.623</td>\n      <td>49044790</td>\n      <td>23348.139730</td>\n      <td>KOR</td>\n      <td>410</td>\n    </tr>\n    <tr>\n      <th>1055</th>\n      <td>Myanmar</td>\n      <td>Asia</td>\n      <td>2007</td>\n      <td>62.069</td>\n      <td>47761980</td>\n      <td>944.000000</td>\n      <td>MMR</td>\n      <td>104</td>\n    </tr>\n    <tr>\n      <th>11</th>\n      <td>Afghanistan</td>\n      <td>Asia</td>\n      <td>2007</td>\n      <td>43.828</td>\n      <td>31889923</td>\n      <td>974.580338</td>\n      <td>AFG</td>\n      <td>4</td>\n    </tr>\n    <tr>\n      <th>1079</th>\n      <td>Nepal</td>\n      <td>Asia</td>\n      <td>2007</td>\n      <td>63.785</td>\n      <td>28901790</td>\n      <td>1091.359778</td>\n      <td>NPL</td>\n      <td>524</td>\n    </tr>\n    <tr>\n      <th>1319</th>\n      <td>Saudi Arabia</td>\n      <td>Asia</td>\n      <td>2007</td>\n      <td>72.777</td>\n      <td>27601038</td>\n      <td>21654.831940</td>\n      <td>SAU</td>\n      <td>682</td>\n    </tr>\n    <tr>\n      <th>743</th>\n      <td>Iraq</td>\n      <td>Asia</td>\n      <td>2007</td>\n      <td>59.545</td>\n      <td>27499638</td>\n      <td>4471.061906</td>\n      <td>IRQ</td>\n      <td>368</td>\n    </tr>\n    <tr>\n      <th>947</th>\n      <td>Malaysia</td>\n      <td>Asia</td>\n      <td>2007</td>\n      <td>74.241</td>\n      <td>24821286</td>\n      <td>12451.655800</td>\n      <td>MYS</td>\n      <td>458</td>\n    </tr>\n  </tbody>\n</table>\n</div>"
     },
     "execution_count": 9,
     "metadata": {},
     "output_type": "execute_result"
    }
   ],
   "source": [
    "df_asia: pd.DataFrame = px.data.gapminder()\n",
    "\n",
    "df_asia = df_asia.query(\"continent == 'Asia'\")\n",
    "df_asia = df_asia.query(\"year == 2007\")\n",
    "df_asia = df_asia.query(\"pop > 24.e6\")\n",
    "df_asia = df_asia.sort_values(\n",
    "        by = 'pop',\n",
    "        ascending = False\n",
    "        )\n",
    "df_asia"
   ],
   "metadata": {
    "collapsed": false,
    "ExecuteTime": {
     "end_time": "2023-06-25T12:03:40.680210Z",
     "start_time": "2023-06-25T12:03:40.633878Z"
    }
   }
  },
  {
   "cell_type": "code",
   "execution_count": 10,
   "outputs": [
    {
     "data": {
      "image/svg+xml": "<svg class=\"main-svg\" xmlns=\"http://www.w3.org/2000/svg\" xmlns:xlink=\"http://www.w3.org/1999/xlink\" width=\"700\" height=\"500\" style=\"\" viewBox=\"0 0 700 500\"><rect x=\"0\" y=\"0\" width=\"700\" height=\"500\" style=\"fill: rgb(17, 17, 17); fill-opacity: 1;\"/><defs id=\"defs-4d5bad\"><g class=\"clips\"/><g class=\"gradients\"/><g class=\"patterns\"/></defs><g class=\"bglayer\"/><g class=\"layer-below\"><g class=\"imagelayer\"/><g class=\"shapelayer\"/></g><g class=\"cartesianlayer\"/><g class=\"polarlayer\"/><g class=\"smithlayer\"/><g class=\"ternarylayer\"/><g class=\"geolayer\"/><g class=\"funnelarealayer\"/><g class=\"pielayer\"><g class=\"trace\" stroke-linejoin=\"round\" style=\"opacity: 1;\"><g class=\"slice\"><path class=\"surface\" d=\"M321.5,260l0,-160a160,160 0 0 1 55.47237978785109,310.0760309998649Z\" style=\"pointer-events: none; stroke-width: 0; fill: rgb(103, 0, 31); fill-opacity: 1; stroke: rgb(68, 68, 68); stroke-opacity: 1;\"/><g class=\"slicetext\"><text data-notex=\"1\" class=\"slicetext\" transform=\"translate(400.86994368533226,250.55077394032747)\" text-anchor=\"middle\" x=\"0\" y=\"0\" style=\"font-family: 'Open Sans', verdana, arial, sans-serif; font-size: 12px; fill: rgb(255, 255, 255); fill-opacity: 1; white-space: pre;\">44.4%</text></g></g><g class=\"slice\"><path class=\"surface\" d=\"M321.5,260l-114.14494403292485,112.12016657016014a160,160 0 0 1 114.14494403292485,-272.1201665701601Z\" style=\"pointer-events: none; stroke-width: 0; fill: rgb(178, 24, 43); fill-opacity: 1; stroke: rgb(68, 68, 68); stroke-opacity: 1;\"/><g class=\"slicetext\"><text data-notex=\"1\" class=\"slicetext\" transform=\"translate(244.73977192319097,232.55175446672425)\" text-anchor=\"middle\" x=\"0\" y=\"0\" style=\"font-family: 'Open Sans', verdana, arial, sans-serif; font-size: 12px; fill: rgb(255, 255, 255); fill-opacity: 1; white-space: pre;\">37.4%</text></g></g><g class=\"slice\"><path class=\"surface\" d=\"M321.5,260l-50.60315817433714,151.7870889857995a160,160 0 0 1 -63.541785858587716,-39.66692241563936Z\" style=\"pointer-events: none; stroke-width: 0; fill: rgb(214, 96, 77); fill-opacity: 1; stroke: rgb(68, 68, 68); stroke-opacity: 1;\"/><g class=\"slicetext\"><text data-notex=\"1\" class=\"slicetext\" transform=\"translate(252.84331030955644,374.73001378472594)\" text-anchor=\"middle\" x=\"0\" y=\"0\" style=\"font-family: 'Open Sans', verdana, arial, sans-serif; font-size: 12px; fill: rgb(68, 68, 68); fill-opacity: 1; white-space: pre;\">7.52%</text></g></g><g class=\"slice\"><path class=\"surface\" d=\"M321.5,260l5.76246445182054,159.8961975890656a160,160 0 0 1 -56.36562262615768,-8.109108603266094Z\" style=\"pointer-events: none; stroke-width: 0; fill: rgb(244, 165, 130); fill-opacity: 1; stroke: rgb(68, 68, 68); stroke-opacity: 1;\"/><g class=\"slicetext\"><text data-notex=\"1\" class=\"slicetext\" transform=\"translate(302.15800945816716,399.19428889268465)\" text-anchor=\"middle\" x=\"0\" y=\"0\" style=\"font-family: 'Open Sans', verdana, arial, sans-serif; font-size: 12px; fill: rgb(68, 68, 68); fill-opacity: 1; white-space: pre;\">5.69%</text></g></g><g class=\"slice\"><path class=\"surface\" d=\"M321.5,260l55.47237978785112,150.07603099986488a160,160 0 0 1 -49.709915336030576,9.82016658920071Z\" style=\"pointer-events: none; stroke-width: 0; fill: rgb(253, 219, 199); fill-opacity: 1; stroke: rgb(68, 68, 68); stroke-opacity: 1;\"/><g class=\"slicetext\"><text data-notex=\"1\" class=\"slicetext\" transform=\"translate(348.26975950912185,400.2591552344693)\" text-anchor=\"middle\" x=\"0\" y=\"0\" style=\"font-family: 'Open Sans', verdana, arial, sans-serif; font-size: 12px; fill: rgb(68, 68, 68); fill-opacity: 1; white-space: pre;\">5.06%</text></g></g></g></g><g class=\"iciclelayer\"/><g class=\"treemaplayer\"/><g class=\"sunburstlayer\"/><g class=\"glimages\"/><defs id=\"topdefs-4d5bad\"><g class=\"clips\"/><clipPath id=\"legend4d5bad\"><rect width=\"115\" height=\"105\" x=\"0\" y=\"0\"/></clipPath></defs><g class=\"layer-above\"><g class=\"imagelayer\"/><g class=\"shapelayer\"/></g><g class=\"infolayer\"><g class=\"legend\" pointer-events=\"all\" transform=\"translate(572.6600000000001,100)\"><rect class=\"bg\" shape-rendering=\"crispEdges\" width=\"115\" height=\"105\" x=\"0\" y=\"0\" style=\"stroke: rgb(68, 68, 68); stroke-opacity: 1; fill: rgb(17, 17, 17); fill-opacity: 1; stroke-width: 0px;\"/><g class=\"scrollbox\" transform=\"\" clip-path=\"url(#legend4d5bad)\"><g class=\"groups\"><g class=\"traces\" transform=\"translate(0,14.5)\" style=\"opacity: 1;\"><text class=\"legendtext\" text-anchor=\"start\" x=\"40\" y=\"4.680000000000001\" style=\"font-family: 'Open Sans', verdana, arial, sans-serif; font-size: 12px; fill: rgb(242, 245, 250); fill-opacity: 1; white-space: pre;\">China</text><g class=\"layers\" style=\"opacity: 1;\"><g class=\"legendfill\"/><g class=\"legendlines\"/><g class=\"legendsymbols\"><g class=\"legendpoints\"><path class=\"legendpie\" d=\"M6,6H-6V-6H6Z\" transform=\"translate(20,0)\" style=\"stroke-width: 0; fill: rgb(103, 0, 31); fill-opacity: 1; stroke: rgb(68, 68, 68); stroke-opacity: 1;\"/></g></g></g><rect class=\"legendtoggle\" x=\"0\" y=\"-9.5\" width=\"109.484375\" height=\"19\" style=\"fill: rgb(0, 0, 0); fill-opacity: 0;\"/></g><g class=\"traces\" transform=\"translate(0,33.5)\" style=\"opacity: 1;\"><text class=\"legendtext\" text-anchor=\"start\" x=\"40\" y=\"4.680000000000001\" style=\"font-family: 'Open Sans', verdana, arial, sans-serif; font-size: 12px; fill: rgb(242, 245, 250); fill-opacity: 1; white-space: pre;\">India</text><g class=\"layers\" style=\"opacity: 1;\"><g class=\"legendfill\"/><g class=\"legendlines\"/><g class=\"legendsymbols\"><g class=\"legendpoints\"><path class=\"legendpie\" d=\"M6,6H-6V-6H6Z\" transform=\"translate(20,0)\" style=\"stroke-width: 0; fill: rgb(178, 24, 43); fill-opacity: 1; stroke: rgb(68, 68, 68); stroke-opacity: 1;\"/></g></g></g><rect class=\"legendtoggle\" x=\"0\" y=\"-9.5\" width=\"109.484375\" height=\"19\" style=\"fill: rgb(0, 0, 0); fill-opacity: 0;\"/></g><g class=\"traces\" transform=\"translate(0,52.5)\" style=\"opacity: 1;\"><text class=\"legendtext\" text-anchor=\"start\" x=\"40\" y=\"4.680000000000001\" style=\"font-family: 'Open Sans', verdana, arial, sans-serif; font-size: 12px; fill: rgb(242, 245, 250); fill-opacity: 1; white-space: pre;\">Indonesia</text><g class=\"layers\" style=\"opacity: 1;\"><g class=\"legendfill\"/><g class=\"legendlines\"/><g class=\"legendsymbols\"><g class=\"legendpoints\"><path class=\"legendpie\" d=\"M6,6H-6V-6H6Z\" transform=\"translate(20,0)\" style=\"stroke-width: 0; fill: rgb(214, 96, 77); fill-opacity: 1; stroke: rgb(68, 68, 68); stroke-opacity: 1;\"/></g></g></g><rect class=\"legendtoggle\" x=\"0\" y=\"-9.5\" width=\"109.484375\" height=\"19\" style=\"fill: rgb(0, 0, 0); fill-opacity: 0;\"/></g><g class=\"traces\" transform=\"translate(0,71.5)\" style=\"opacity: 1;\"><text class=\"legendtext\" text-anchor=\"start\" x=\"40\" y=\"4.680000000000001\" style=\"font-family: 'Open Sans', verdana, arial, sans-serif; font-size: 12px; fill: rgb(242, 245, 250); fill-opacity: 1; white-space: pre;\">Pakistan</text><g class=\"layers\" style=\"opacity: 1;\"><g class=\"legendfill\"/><g class=\"legendlines\"/><g class=\"legendsymbols\"><g class=\"legendpoints\"><path class=\"legendpie\" d=\"M6,6H-6V-6H6Z\" transform=\"translate(20,0)\" style=\"stroke-width: 0; fill: rgb(244, 165, 130); fill-opacity: 1; stroke: rgb(68, 68, 68); stroke-opacity: 1;\"/></g></g></g><rect class=\"legendtoggle\" x=\"0\" y=\"-9.5\" width=\"109.484375\" height=\"19\" style=\"fill: rgb(0, 0, 0); fill-opacity: 0;\"/></g><g class=\"traces\" transform=\"translate(0,90.5)\" style=\"opacity: 1;\"><text class=\"legendtext\" text-anchor=\"start\" x=\"40\" y=\"4.680000000000001\" style=\"font-family: 'Open Sans', verdana, arial, sans-serif; font-size: 12px; fill: rgb(242, 245, 250); fill-opacity: 1; white-space: pre;\">Bangladesh</text><g class=\"layers\" style=\"opacity: 1;\"><g class=\"legendfill\"/><g class=\"legendlines\"/><g class=\"legendsymbols\"><g class=\"legendpoints\"><path class=\"legendpie\" d=\"M6,6H-6V-6H6Z\" transform=\"translate(20,0)\" style=\"stroke-width: 0; fill: rgb(253, 219, 199); fill-opacity: 1; stroke: rgb(68, 68, 68); stroke-opacity: 1;\"/></g></g></g><rect class=\"legendtoggle\" x=\"0\" y=\"-9.5\" width=\"109.484375\" height=\"19\" style=\"fill: rgb(0, 0, 0); fill-opacity: 0;\"/></g></g></g><rect class=\"scrollbar\" rx=\"20\" ry=\"3\" width=\"0\" height=\"0\" x=\"0\" y=\"0\" style=\"fill: rgb(128, 139, 164); fill-opacity: 1;\"/></g><g class=\"g-gtitle\"><text class=\"gtitle\" x=\"35\" y=\"50\" text-anchor=\"start\" dy=\"0em\" style=\"font-family: 'Open Sans', verdana, arial, sans-serif; font-size: 17px; fill: rgb(242, 245, 250); opacity: 1; font-weight: normal; white-space: pre;\">Population of asian continent</text></g></g></svg>"
     },
     "metadata": {},
     "output_type": "display_data"
    }
   ],
   "source": [
    "px.pie(\n",
    "        data_frame = df_asia.head(5),\n",
    "        values = 'pop',\n",
    "        names = 'country',\n",
    "        title = 'Population of asian continent',\n",
    "        color_discrete_sequence = px.colors.sequential.RdBu\n",
    "        )"
   ],
   "metadata": {
    "collapsed": false,
    "ExecuteTime": {
     "end_time": "2023-06-25T12:03:40.773103Z",
     "start_time": "2023-06-25T12:03:40.672455Z"
    }
   }
  },
  {
   "cell_type": "code",
   "execution_count": 11,
   "outputs": [
    {
     "data": {
      "image/svg+xml": "<svg class=\"main-svg\" xmlns=\"http://www.w3.org/2000/svg\" xmlns:xlink=\"http://www.w3.org/1999/xlink\" width=\"1600\" height=\"600\" style=\"\" viewBox=\"0 0 1600 600\"><rect x=\"0\" y=\"0\" width=\"1600\" height=\"600\" style=\"fill: rgb(17, 17, 17); fill-opacity: 1;\"/><defs id=\"defs-d0c3f6\"><g class=\"clips\"><clipPath id=\"clipd0c3f6xyplot\" class=\"plotclip\"><rect width=\"1384\" height=\"397\"/></clipPath><clipPath class=\"axesclip\" id=\"clipd0c3f6x\"><rect x=\"89\" y=\"0\" width=\"1384\" height=\"600\"/></clipPath><clipPath class=\"axesclip\" id=\"clipd0c3f6y\"><rect x=\"0\" y=\"60\" width=\"1600\" height=\"397\"/></clipPath><clipPath class=\"axesclip\" id=\"clipd0c3f6xy\"><rect x=\"89\" y=\"60\" width=\"1384\" height=\"397\"/></clipPath></g><g class=\"gradients\"><linearGradient x1=\"0\" x2=\"0\" y1=\"1\" y2=\"0\" id=\"gd0c3f6-cbcoloraxis\"><stop offset=\"0%\" stop-color=\"rgb(13, 8, 135)\" stop-opacity=\"1\"/><stop offset=\"11.111111%\" stop-color=\"rgb(70, 3, 159)\" stop-opacity=\"1\"/><stop offset=\"22.222222%\" stop-color=\"rgb(114, 1, 168)\" stop-opacity=\"1\"/><stop offset=\"33.333333%\" stop-color=\"rgb(156, 23, 158)\" stop-opacity=\"1\"/><stop offset=\"44.444444%\" stop-color=\"rgb(189, 55, 134)\" stop-opacity=\"1\"/><stop offset=\"55.555556%\" stop-color=\"rgb(216, 87, 107)\" stop-opacity=\"1\"/><stop offset=\"66.666667%\" stop-color=\"rgb(237, 121, 83)\" stop-opacity=\"1\"/><stop offset=\"77.777778%\" stop-color=\"rgb(251, 159, 58)\" stop-opacity=\"1\"/><stop offset=\"88.888889%\" stop-color=\"rgb(253, 202, 38)\" stop-opacity=\"1\"/><stop offset=\"100%\" stop-color=\"rgb(240, 249, 33)\" stop-opacity=\"1\"/></linearGradient></g><g class=\"patterns\"/></defs><g class=\"bglayer\"/><g class=\"layer-below\"><g class=\"imagelayer\"/><g class=\"shapelayer\"/></g><g class=\"cartesianlayer\"><g class=\"subplot xy\"><g class=\"layer-subplot\"><g class=\"shapelayer\"/><g class=\"imagelayer\"/></g><g class=\"minor-gridlayer\"><g class=\"x\"/><g class=\"y\"/></g><g class=\"gridlayer\"><g class=\"x\"><path class=\"xgrid crisp\" transform=\"translate(129.71,0)\" d=\"M0,60v397\" style=\"stroke: rgb(40, 52, 66); stroke-opacity: 1; stroke-width: 1px;\"/><path class=\"xgrid crisp\" transform=\"translate(211.12,0)\" d=\"M0,60v397\" style=\"stroke: rgb(40, 52, 66); stroke-opacity: 1; stroke-width: 1px;\"/><path class=\"xgrid crisp\" transform=\"translate(292.53,0)\" d=\"M0,60v397\" style=\"stroke: rgb(40, 52, 66); stroke-opacity: 1; stroke-width: 1px;\"/><path class=\"xgrid crisp\" transform=\"translate(373.94,0)\" d=\"M0,60v397\" style=\"stroke: rgb(40, 52, 66); stroke-opacity: 1; stroke-width: 1px;\"/><path class=\"xgrid crisp\" transform=\"translate(455.35,0)\" d=\"M0,60v397\" style=\"stroke: rgb(40, 52, 66); stroke-opacity: 1; stroke-width: 1px;\"/><path class=\"xgrid crisp\" transform=\"translate(536.76,0)\" d=\"M0,60v397\" style=\"stroke: rgb(40, 52, 66); stroke-opacity: 1; stroke-width: 1px;\"/><path class=\"xgrid crisp\" transform=\"translate(618.18,0)\" d=\"M0,60v397\" style=\"stroke: rgb(40, 52, 66); stroke-opacity: 1; stroke-width: 1px;\"/><path class=\"xgrid crisp\" transform=\"translate(699.59,0)\" d=\"M0,60v397\" style=\"stroke: rgb(40, 52, 66); stroke-opacity: 1; stroke-width: 1px;\"/><path class=\"xgrid crisp\" transform=\"translate(781,0)\" d=\"M0,60v397\" style=\"stroke: rgb(40, 52, 66); stroke-opacity: 1; stroke-width: 1px;\"/><path class=\"xgrid crisp\" transform=\"translate(862.41,0)\" d=\"M0,60v397\" style=\"stroke: rgb(40, 52, 66); stroke-opacity: 1; stroke-width: 1px;\"/><path class=\"xgrid crisp\" transform=\"translate(943.82,0)\" d=\"M0,60v397\" style=\"stroke: rgb(40, 52, 66); stroke-opacity: 1; stroke-width: 1px;\"/><path class=\"xgrid crisp\" transform=\"translate(1025.24,0)\" d=\"M0,60v397\" style=\"stroke: rgb(40, 52, 66); stroke-opacity: 1; stroke-width: 1px;\"/><path class=\"xgrid crisp\" transform=\"translate(1106.65,0)\" d=\"M0,60v397\" style=\"stroke: rgb(40, 52, 66); stroke-opacity: 1; stroke-width: 1px;\"/><path class=\"xgrid crisp\" transform=\"translate(1188.06,0)\" d=\"M0,60v397\" style=\"stroke: rgb(40, 52, 66); stroke-opacity: 1; stroke-width: 1px;\"/><path class=\"xgrid crisp\" transform=\"translate(1269.47,0)\" d=\"M0,60v397\" style=\"stroke: rgb(40, 52, 66); stroke-opacity: 1; stroke-width: 1px;\"/><path class=\"xgrid crisp\" transform=\"translate(1350.88,0)\" d=\"M0,60v397\" style=\"stroke: rgb(40, 52, 66); stroke-opacity: 1; stroke-width: 1px;\"/><path class=\"xgrid crisp\" transform=\"translate(1432.29,0)\" d=\"M0,60v397\" style=\"stroke: rgb(40, 52, 66); stroke-opacity: 1; stroke-width: 1px;\"/></g><g class=\"y\"><path class=\"ygrid crisp\" transform=\"translate(0,404.07)\" d=\"M89,0h1384\" style=\"stroke: rgb(40, 52, 66); stroke-opacity: 1; stroke-width: 1px;\"/><path class=\"ygrid crisp\" transform=\"translate(0,351.13)\" d=\"M89,0h1384\" style=\"stroke: rgb(40, 52, 66); stroke-opacity: 1; stroke-width: 1px;\"/><path class=\"ygrid crisp\" transform=\"translate(0,298.2)\" d=\"M89,0h1384\" style=\"stroke: rgb(40, 52, 66); stroke-opacity: 1; stroke-width: 1px;\"/><path class=\"ygrid crisp\" transform=\"translate(0,245.27)\" d=\"M89,0h1384\" style=\"stroke: rgb(40, 52, 66); stroke-opacity: 1; stroke-width: 1px;\"/><path class=\"ygrid crisp\" transform=\"translate(0,192.33)\" d=\"M89,0h1384\" style=\"stroke: rgb(40, 52, 66); stroke-opacity: 1; stroke-width: 1px;\"/><path class=\"ygrid crisp\" transform=\"translate(0,139.4)\" d=\"M89,0h1384\" style=\"stroke: rgb(40, 52, 66); stroke-opacity: 1; stroke-width: 1px;\"/><path class=\"ygrid crisp\" transform=\"translate(0,86.47)\" d=\"M89,0h1384\" style=\"stroke: rgb(40, 52, 66); stroke-opacity: 1; stroke-width: 1px;\"/></g></g><g class=\"zerolinelayer\"><path class=\"yzl zl crisp\" transform=\"translate(0,457)\" d=\"M89,0h1384\" style=\"stroke: rgb(40, 52, 66); stroke-opacity: 1; stroke-width: 2px;\"/></g><path class=\"xlines-below\"/><path class=\"ylines-below\"/><g class=\"overlines-below\"/><g class=\"xaxislayer-below\"/><g class=\"yaxislayer-below\"/><g class=\"overaxes-below\"/><g class=\"plot\" transform=\"translate(89,60)\" clip-path=\"url(#clipd0c3f6xyplot)\"><g class=\"barlayer mlayer\"><g class=\"trace bars\" style=\"opacity: 1;\"><g class=\"points\"><g class=\"point\"><path d=\"M8.14,397V47.99H73.27V397Z\" style=\"vector-effect: none; opacity: 1; stroke-width: 0.5px; fill: rgb(240, 249, 33); fill-opacity: 1; stroke: rgb(17, 17, 17); stroke-opacity: 1;\"/><text class=\"bartext bartext-outside\" text-anchor=\"middle\" data-notex=\"1\" x=\"0\" y=\"0\" style=\"font-family: Arial; font-size: 18px; fill: rgb(255, 255, 255); fill-opacity: 1; white-space: pre;\" transform=\"translate(40.705,40.99)\">73</text></g><g class=\"point\"><path d=\"M89.55,397V103.12H154.68V397Z\" style=\"vector-effect: none; opacity: 1; stroke-width: 0.5px; fill: rgb(252, 183, 47); fill-opacity: 1; stroke: rgb(17, 17, 17); stroke-opacity: 1;\"/><text class=\"bartext bartext-outside\" text-anchor=\"middle\" data-notex=\"1\" x=\"0\" y=\"0\" style=\"font-family: Arial; font-size: 18px; fill: rgb(255, 255, 255); fill-opacity: 1; white-space: pre;\" transform=\"translate(122.11500000000001,96.12)\">65</text></g><g class=\"point\"><path d=\"M170.96,397V337.83H236.09V397Z\" style=\"vector-effect: none; opacity: 1; stroke-width: 0.5px; fill: rgb(87, 2, 162); fill-opacity: 1; stroke: rgb(17, 17, 17); stroke-opacity: 1;\"/><text class=\"bartext bartext-outside\" text-anchor=\"middle\" data-notex=\"1\" x=\"0\" y=\"0\" style=\"font-family: Arial; font-size: 18px; fill: rgb(255, 255, 255); fill-opacity: 1; white-space: pre;\" transform=\"translate(203.525,330.83)\">71</text></g><g class=\"point\"><path d=\"M252.38,397V352.2H317.51V397Z\" style=\"vector-effect: none; opacity: 1; stroke-width: 0.5px; fill: rgb(70, 3, 159); fill-opacity: 1; stroke: rgb(17, 17, 17); stroke-opacity: 1;\"/><text class=\"bartext bartext-outside\" text-anchor=\"middle\" data-notex=\"1\" x=\"0\" y=\"0\" style=\"font-family: Arial; font-size: 18px; fill: rgb(255, 255, 255); fill-opacity: 1; white-space: pre;\" transform=\"translate(284.945,345.2)\">65</text></g><g class=\"point\"><path d=\"M333.79,397V357.18H398.92V397Z\" style=\"vector-effect: none; opacity: 1; stroke-width: 0.5px; fill: rgb(63, 4, 156); fill-opacity: 1; stroke: rgb(17, 17, 17); stroke-opacity: 1;\"/><text class=\"bartext bartext-outside\" text-anchor=\"middle\" data-notex=\"1\" x=\"0\" y=\"0\" style=\"font-family: Arial; font-size: 18px; fill: rgb(255, 255, 255); fill-opacity: 1; white-space: pre;\" transform=\"translate(366.355,350.18)\">64</text></g><g class=\"point\"><path d=\"M415.2,397V363.26H480.33V397Z\" style=\"vector-effect: none; opacity: 1; stroke-width: 0.5px; fill: rgb(54, 4, 152); fill-opacity: 1; stroke: rgb(17, 17, 17); stroke-opacity: 1;\"/><text class=\"bartext bartext-outside\" text-anchor=\"middle\" data-notex=\"1\" x=\"0\" y=\"0\" style=\"font-family: Arial; font-size: 18px; fill: rgb(255, 255, 255); fill-opacity: 1; white-space: pre;\" transform=\"translate(447.765,356.26)\">83</text></g><g class=\"point\"><path d=\"M496.61,397V372.89H561.74V397Z\" style=\"vector-effect: none; opacity: 1; stroke-width: 0.5px; fill: rgb(39, 6, 146); fill-opacity: 1; stroke: rgb(17, 17, 17); stroke-opacity: 1;\"/><text class=\"bartext bartext-outside\" text-anchor=\"middle\" data-notex=\"1\" x=\"0\" y=\"0\" style=\"font-family: Arial; font-size: 18px; fill: rgb(255, 255, 255); fill-opacity: 1; white-space: pre;\" transform=\"translate(529.175,365.89)\">72</text></g><g class=\"point\"><path d=\"M578.02,397V374.43H643.15V397Z\" style=\"vector-effect: none; opacity: 1; stroke-width: 0.5px; fill: rgb(37, 6, 145); fill-opacity: 1; stroke: rgb(17, 17, 17); stroke-opacity: 1;\"/><text class=\"bartext bartext-outside\" text-anchor=\"middle\" data-notex=\"1\" x=\"0\" y=\"0\" style=\"font-family: Arial; font-size: 18px; fill: rgb(255, 255, 255); fill-opacity: 1; white-space: pre;\" transform=\"translate(610.585,367.43)\">74</text></g><g class=\"point\"><path d=\"M659.44,397V378.62H724.56V397Z\" style=\"vector-effect: none; opacity: 1; stroke-width: 0.5px; fill: rgb(31, 6, 142); fill-opacity: 1; stroke: rgb(17, 17, 17); stroke-opacity: 1;\"/><text class=\"bartext bartext-outside\" text-anchor=\"middle\" data-notex=\"1\" x=\"0\" y=\"0\" style=\"font-family: Arial; font-size: 18px; fill: rgb(255, 255, 255); fill-opacity: 1; white-space: pre;\" transform=\"translate(692,371.62)\">71</text></g><g class=\"point\"><path d=\"M740.85,397V379.78H805.98V397Z\" style=\"vector-effect: none; opacity: 1; stroke-width: 0.5px; fill: rgb(29, 7, 142); fill-opacity: 1; stroke: rgb(17, 17, 17); stroke-opacity: 1;\"/><text class=\"bartext bartext-outside\" text-anchor=\"middle\" data-notex=\"1\" x=\"0\" y=\"0\" style=\"font-family: Arial; font-size: 18px; fill: rgb(255, 255, 255); fill-opacity: 1; white-space: pre;\" transform=\"translate(773.415,372.78)\">71</text></g><g class=\"point\"><path d=\"M822.26,397V384.02H887.39V397Z\" style=\"vector-effect: none; opacity: 1; stroke-width: 0.5px; fill: rgb(23, 7, 139); fill-opacity: 1; stroke: rgb(17, 17, 17); stroke-opacity: 1;\"/><text class=\"bartext bartext-outside\" text-anchor=\"middle\" data-notex=\"1\" x=\"0\" y=\"0\" style=\"font-family: Arial; font-size: 18px; fill: rgb(255, 255, 255); fill-opacity: 1; white-space: pre;\" transform=\"translate(854.825,377.02)\">79</text></g><g class=\"point\"><path d=\"M903.67,397V384.36H968.8V397Z\" style=\"vector-effect: none; opacity: 1; stroke-width: 0.5px; fill: rgb(22, 7, 139); fill-opacity: 1; stroke: rgb(17, 17, 17); stroke-opacity: 1;\"/><text class=\"bartext bartext-outside\" text-anchor=\"middle\" data-notex=\"1\" x=\"0\" y=\"0\" style=\"font-family: Arial; font-size: 18px; fill: rgb(255, 255, 255); fill-opacity: 1; white-space: pre;\" transform=\"translate(936.2349999999999,377.36)\">62</text></g><g class=\"point\"><path d=\"M985.08,397V388.56H1050.21V397Z\" style=\"vector-effect: none; opacity: 1; stroke-width: 0.5px; fill: rgb(16, 8, 136); fill-opacity: 1; stroke: rgb(17, 17, 17); stroke-opacity: 1;\"/><text class=\"bartext bartext-outside\" text-anchor=\"middle\" data-notex=\"1\" x=\"0\" y=\"0\" style=\"font-family: Arial; font-size: 18px; fill: rgb(255, 255, 255); fill-opacity: 1; white-space: pre;\" transform=\"translate(1017.645,381.56)\">44</text></g><g class=\"point\"><path d=\"M1066.49,397V389.35H1131.62V397Z\" style=\"vector-effect: none; opacity: 1; stroke-width: 0.5px; fill: rgb(15, 8, 136); fill-opacity: 1; stroke: rgb(17, 17, 17); stroke-opacity: 1;\"/><text class=\"bartext bartext-outside\" text-anchor=\"middle\" data-notex=\"1\" x=\"0\" y=\"0\" style=\"font-family: Arial; font-size: 18px; fill: rgb(255, 255, 255); fill-opacity: 1; white-space: pre;\" transform=\"translate(1099.0549999999998,382.35)\">64</text></g><g class=\"point\"><path d=\"M1147.91,397V389.69H1213.04V397Z\" style=\"vector-effect: none; opacity: 1; stroke-width: 0.5px; fill: rgb(14, 8, 135); fill-opacity: 1; stroke: rgb(17, 17, 17); stroke-opacity: 1;\"/><text class=\"bartext bartext-outside\" text-anchor=\"middle\" data-notex=\"1\" x=\"0\" y=\"0\" style=\"font-family: Arial; font-size: 18px; fill: rgb(255, 255, 255); fill-opacity: 1; white-space: pre;\" transform=\"translate(1180.475,382.69)\">73</text></g><g class=\"point\"><path d=\"M1229.32,397V389.72H1294.45V397Z\" style=\"vector-effect: none; opacity: 1; stroke-width: 0.5px; fill: rgb(14, 8, 135); fill-opacity: 1; stroke: rgb(17, 17, 17); stroke-opacity: 1;\"/><text class=\"bartext bartext-outside\" text-anchor=\"middle\" data-notex=\"1\" x=\"0\" y=\"0\" style=\"font-family: Arial; font-size: 18px; fill: rgb(255, 255, 255); fill-opacity: 1; white-space: pre;\" transform=\"translate(1261.885,382.72)\">60</text></g><g class=\"point\"><path d=\"M1310.73,397V390.43H1375.86V397Z\" style=\"vector-effect: none; opacity: 1; stroke-width: 0.5px; fill: rgb(13, 8, 135); fill-opacity: 1; stroke: rgb(17, 17, 17); stroke-opacity: 1;\"/><text class=\"bartext bartext-outside\" text-anchor=\"middle\" data-notex=\"1\" x=\"0\" y=\"0\" style=\"font-family: Arial; font-size: 18px; fill: rgb(255, 255, 255); fill-opacity: 1; white-space: pre;\" transform=\"translate(1343.295,383.43)\">74</text></g></g></g></g></g><g class=\"overplot\"/><path class=\"xlines-above crisp\" d=\"\" style=\"fill: none; stroke-width: 1px; stroke: rgb(0, 0, 0); stroke-opacity: 0;\"/><path class=\"ylines-above crisp\" d=\"\" style=\"fill: none; stroke-width: 1px; stroke: rgb(0, 0, 0); stroke-opacity: 0;\"/><g class=\"overlines-above\"/><g class=\"xaxislayer-above\"><path class=\"xtick ticks crisp\" d=\"M0,458v5\" transform=\"translate(129.71,0)\" style=\"stroke: rgb(68, 68, 68); stroke-opacity: 1; stroke-width: 1px;\"/><path class=\"xtick ticks crisp\" d=\"M0,458v5\" transform=\"translate(211.12,0)\" style=\"stroke: rgb(68, 68, 68); stroke-opacity: 1; stroke-width: 1px;\"/><path class=\"xtick ticks crisp\" d=\"M0,458v5\" transform=\"translate(292.53,0)\" style=\"stroke: rgb(68, 68, 68); stroke-opacity: 1; stroke-width: 1px;\"/><path class=\"xtick ticks crisp\" d=\"M0,458v5\" transform=\"translate(373.94,0)\" style=\"stroke: rgb(68, 68, 68); stroke-opacity: 1; stroke-width: 1px;\"/><path class=\"xtick ticks crisp\" d=\"M0,458v5\" transform=\"translate(455.35,0)\" style=\"stroke: rgb(68, 68, 68); stroke-opacity: 1; stroke-width: 1px;\"/><path class=\"xtick ticks crisp\" d=\"M0,458v5\" transform=\"translate(536.76,0)\" style=\"stroke: rgb(68, 68, 68); stroke-opacity: 1; stroke-width: 1px;\"/><path class=\"xtick ticks crisp\" d=\"M0,458v5\" transform=\"translate(618.18,0)\" style=\"stroke: rgb(68, 68, 68); stroke-opacity: 1; stroke-width: 1px;\"/><path class=\"xtick ticks crisp\" d=\"M0,458v5\" transform=\"translate(699.59,0)\" style=\"stroke: rgb(68, 68, 68); stroke-opacity: 1; stroke-width: 1px;\"/><path class=\"xtick ticks crisp\" d=\"M0,458v5\" transform=\"translate(781,0)\" style=\"stroke: rgb(68, 68, 68); stroke-opacity: 1; stroke-width: 1px;\"/><path class=\"xtick ticks crisp\" d=\"M0,458v5\" transform=\"translate(862.41,0)\" style=\"stroke: rgb(68, 68, 68); stroke-opacity: 1; stroke-width: 1px;\"/><path class=\"xtick ticks crisp\" d=\"M0,458v5\" transform=\"translate(943.82,0)\" style=\"stroke: rgb(68, 68, 68); stroke-opacity: 1; stroke-width: 1px;\"/><path class=\"xtick ticks crisp\" d=\"M0,458v5\" transform=\"translate(1025.24,0)\" style=\"stroke: rgb(68, 68, 68); stroke-opacity: 1; stroke-width: 1px;\"/><path class=\"xtick ticks crisp\" d=\"M0,458v5\" transform=\"translate(1106.65,0)\" style=\"stroke: rgb(68, 68, 68); stroke-opacity: 1; stroke-width: 1px;\"/><path class=\"xtick ticks crisp\" d=\"M0,458v5\" transform=\"translate(1188.06,0)\" style=\"stroke: rgb(68, 68, 68); stroke-opacity: 1; stroke-width: 1px;\"/><path class=\"xtick ticks crisp\" d=\"M0,458v5\" transform=\"translate(1269.47,0)\" style=\"stroke: rgb(68, 68, 68); stroke-opacity: 1; stroke-width: 1px;\"/><path class=\"xtick ticks crisp\" d=\"M0,458v5\" transform=\"translate(1350.88,0)\" style=\"stroke: rgb(68, 68, 68); stroke-opacity: 1; stroke-width: 1px;\"/><path class=\"xtick ticks crisp\" d=\"M0,458v5\" transform=\"translate(1432.29,0)\" style=\"stroke: rgb(68, 68, 68); stroke-opacity: 1; stroke-width: 1px;\"/><g class=\"xtick\"><text text-anchor=\"start\" x=\"0\" y=\"484.6\" transform=\"translate(129.71,0) rotate(45,0,475.6)\" style=\"font-family: Arial; font-size: 18px; fill: rgb(255, 255, 255); fill-opacity: 1; white-space: pre; opacity: 1;\">China</text></g><g class=\"xtick\"><text text-anchor=\"start\" x=\"0\" y=\"484.6\" transform=\"translate(211.12,0) rotate(45,0,475.6)\" style=\"font-family: Arial; font-size: 18px; fill: rgb(255, 255, 255); fill-opacity: 1; white-space: pre; opacity: 1;\">India</text></g><g class=\"xtick\"><text text-anchor=\"start\" x=\"0\" y=\"484.6\" transform=\"translate(292.53,0) rotate(45,0,475.6)\" style=\"font-family: Arial; font-size: 18px; fill: rgb(255, 255, 255); fill-opacity: 1; white-space: pre; opacity: 1;\">Indonesia</text></g><g class=\"xtick\"><text text-anchor=\"start\" x=\"0\" y=\"484.6\" transform=\"translate(373.94,0) rotate(45,0,475.6)\" style=\"font-family: Arial; font-size: 18px; fill: rgb(255, 255, 255); fill-opacity: 1; white-space: pre; opacity: 1;\">Pakistan</text></g><g class=\"xtick\"><text text-anchor=\"start\" x=\"0\" y=\"484.6\" transform=\"translate(455.35,0) rotate(45,0,475.6)\" style=\"font-family: Arial; font-size: 18px; fill: rgb(255, 255, 255); fill-opacity: 1; white-space: pre; opacity: 1;\">Bangladesh</text></g><g class=\"xtick\"><text text-anchor=\"start\" x=\"0\" y=\"484.6\" transform=\"translate(536.76,0) rotate(45,0,475.6)\" style=\"font-family: Arial; font-size: 18px; fill: rgb(255, 255, 255); fill-opacity: 1; white-space: pre; opacity: 1;\">Japan</text></g><g class=\"xtick\"><text text-anchor=\"start\" x=\"0\" y=\"484.6\" transform=\"translate(618.18,0) rotate(45,0,475.6)\" style=\"font-family: Arial; font-size: 18px; fill: rgb(255, 255, 255); fill-opacity: 1; white-space: pre; opacity: 1;\">Philippines</text></g><g class=\"xtick\"><text text-anchor=\"start\" x=\"0\" y=\"484.6\" transform=\"translate(699.59,0) rotate(45,0,475.6)\" style=\"font-family: Arial; font-size: 18px; fill: rgb(255, 255, 255); fill-opacity: 1; white-space: pre; opacity: 1;\">Vietnam</text></g><g class=\"xtick\"><text text-anchor=\"start\" x=\"0\" y=\"484.6\" transform=\"translate(781,0) rotate(45,0,475.6)\" style=\"font-family: Arial; font-size: 18px; fill: rgb(255, 255, 255); fill-opacity: 1; white-space: pre; opacity: 1;\">Iran</text></g><g class=\"xtick\"><text text-anchor=\"start\" x=\"0\" y=\"484.6\" transform=\"translate(862.41,0) rotate(45,0,475.6)\" style=\"font-family: Arial; font-size: 18px; fill: rgb(255, 255, 255); fill-opacity: 1; white-space: pre; opacity: 1;\">Thailand</text></g><g class=\"xtick\"><text text-anchor=\"start\" x=\"0\" y=\"484.6\" transform=\"translate(943.82,0) rotate(45,0,475.6)\" style=\"font-family: Arial; font-size: 18px; fill: rgb(255, 255, 255); fill-opacity: 1; white-space: pre; opacity: 1;\">Korea, Rep.</text></g><g class=\"xtick\"><text text-anchor=\"start\" x=\"0\" y=\"484.6\" transform=\"translate(1025.24,0) rotate(45,0,475.6)\" style=\"font-family: Arial; font-size: 18px; fill: rgb(255, 255, 255); fill-opacity: 1; white-space: pre; opacity: 1;\">Myanmar</text></g><g class=\"xtick\"><text text-anchor=\"start\" x=\"0\" y=\"484.6\" transform=\"translate(1106.65,0) rotate(45,0,475.6)\" style=\"font-family: Arial; font-size: 18px; fill: rgb(255, 255, 255); fill-opacity: 1; white-space: pre; opacity: 1;\">Afghanistan</text></g><g class=\"xtick\"><text text-anchor=\"start\" x=\"0\" y=\"484.6\" transform=\"translate(1188.06,0) rotate(45,0,475.6)\" style=\"font-family: Arial; font-size: 18px; fill: rgb(255, 255, 255); fill-opacity: 1; white-space: pre; opacity: 1;\">Nepal</text></g><g class=\"xtick\"><text text-anchor=\"start\" x=\"0\" y=\"484.6\" transform=\"translate(1269.47,0) rotate(45,0,475.6)\" style=\"font-family: Arial; font-size: 18px; fill: rgb(255, 255, 255); fill-opacity: 1; white-space: pre; opacity: 1;\">Saudi Arabia</text></g><g class=\"xtick\"><text text-anchor=\"start\" x=\"0\" y=\"484.6\" transform=\"translate(1350.88,0) rotate(45,0,475.6)\" style=\"font-family: Arial; font-size: 18px; fill: rgb(255, 255, 255); fill-opacity: 1; white-space: pre; opacity: 1;\">Iraq</text></g><g class=\"xtick\"><text text-anchor=\"start\" x=\"0\" y=\"484.6\" transform=\"translate(1432.29,0) rotate(45,0,475.6)\" style=\"font-family: Arial; font-size: 18px; fill: rgb(255, 255, 255); fill-opacity: 1; white-space: pre; opacity: 1;\">Malaysia</text></g></g><g class=\"yaxislayer-above\"><path class=\"ytick ticks crisp\" d=\"M88,0h-5\" transform=\"translate(0,457)\" style=\"stroke: rgb(68, 68, 68); stroke-opacity: 1; stroke-width: 1px;\"/><path class=\"ytick ticks crisp\" d=\"M88,0h-5\" transform=\"translate(0,404.07)\" style=\"stroke: rgb(68, 68, 68); stroke-opacity: 1; stroke-width: 1px;\"/><path class=\"ytick ticks crisp\" d=\"M88,0h-5\" transform=\"translate(0,351.13)\" style=\"stroke: rgb(68, 68, 68); stroke-opacity: 1; stroke-width: 1px;\"/><path class=\"ytick ticks crisp\" d=\"M88,0h-5\" transform=\"translate(0,298.2)\" style=\"stroke: rgb(68, 68, 68); stroke-opacity: 1; stroke-width: 1px;\"/><path class=\"ytick ticks crisp\" d=\"M88,0h-5\" transform=\"translate(0,245.27)\" style=\"stroke: rgb(68, 68, 68); stroke-opacity: 1; stroke-width: 1px;\"/><path class=\"ytick ticks crisp\" d=\"M88,0h-5\" transform=\"translate(0,192.33)\" style=\"stroke: rgb(68, 68, 68); stroke-opacity: 1; stroke-width: 1px;\"/><path class=\"ytick ticks crisp\" d=\"M88,0h-5\" transform=\"translate(0,139.4)\" style=\"stroke: rgb(68, 68, 68); stroke-opacity: 1; stroke-width: 1px;\"/><path class=\"ytick ticks crisp\" d=\"M88,0h-5\" transform=\"translate(0,86.47)\" style=\"stroke: rgb(68, 68, 68); stroke-opacity: 1; stroke-width: 1px;\"/><g class=\"ytick\"><text text-anchor=\"end\" x=\"79.4\" y=\"6.3\" transform=\"translate(0,457)\" style=\"font-family: Arial; font-size: 18px; fill: rgb(255, 255, 255); fill-opacity: 1; white-space: pre; opacity: 1;\">0</text></g><g class=\"ytick\"><text text-anchor=\"end\" x=\"79.4\" y=\"6.3\" style=\"font-family: Arial; font-size: 18px; fill: rgb(255, 255, 255); fill-opacity: 1; white-space: pre; opacity: 1;\" transform=\"translate(0,404.07)\">0.2B</text></g><g class=\"ytick\"><text text-anchor=\"end\" x=\"79.4\" y=\"6.3\" style=\"font-family: Arial; font-size: 18px; fill: rgb(255, 255, 255); fill-opacity: 1; white-space: pre; opacity: 1;\" transform=\"translate(0,351.13)\">0.4B</text></g><g class=\"ytick\"><text text-anchor=\"end\" x=\"79.4\" y=\"6.3\" style=\"font-family: Arial; font-size: 18px; fill: rgb(255, 255, 255); fill-opacity: 1; white-space: pre; opacity: 1;\" transform=\"translate(0,298.2)\">0.6B</text></g><g class=\"ytick\"><text text-anchor=\"end\" x=\"79.4\" y=\"6.3\" style=\"font-family: Arial; font-size: 18px; fill: rgb(255, 255, 255); fill-opacity: 1; white-space: pre; opacity: 1;\" transform=\"translate(0,245.27)\">0.8B</text></g><g class=\"ytick\"><text text-anchor=\"end\" x=\"79.4\" y=\"6.3\" style=\"font-family: Arial; font-size: 18px; fill: rgb(255, 255, 255); fill-opacity: 1; white-space: pre; opacity: 1;\" transform=\"translate(0,192.33)\">1B</text></g><g class=\"ytick\"><text text-anchor=\"end\" x=\"79.4\" y=\"6.3\" style=\"font-family: Arial; font-size: 18px; fill: rgb(255, 255, 255); fill-opacity: 1; white-space: pre; opacity: 1;\" transform=\"translate(0,139.4)\">1.2B</text></g><g class=\"ytick\"><text text-anchor=\"end\" x=\"79.4\" y=\"6.3\" style=\"font-family: Arial; font-size: 18px; fill: rgb(255, 255, 255); fill-opacity: 1; white-space: pre; opacity: 1;\" transform=\"translate(0,86.47)\">1.4B</text></g></g><g class=\"overaxes-above\"/></g></g><g class=\"polarlayer\"/><g class=\"smithlayer\"/><g class=\"ternarylayer\"/><g class=\"geolayer\"/><g class=\"funnelarealayer\"/><g class=\"pielayer\"/><g class=\"iciclelayer\"/><g class=\"treemaplayer\"/><g class=\"sunburstlayer\"/><g class=\"glimages\"/><defs id=\"topdefs-d0c3f6\"><g class=\"clips\"/></defs><g class=\"layer-above\"><g class=\"imagelayer\"/><g class=\"shapelayer\"/></g><g class=\"infolayer\"><g class=\"cbcoloraxis colorbar\" transform=\"translate(89,60)\"><rect class=\"cbbg\" x=\"1412\" y=\"0\" width=\"87.046875\" height=\"397\" style=\"fill: rgb(0, 0, 0); fill-opacity: 0; stroke: rgb(68, 68, 68); stroke-opacity: 1; stroke-width: 0;\"/><g class=\"cbfills\" transform=\"translate(0,40)\"><rect class=\"cbfill gradient_filled\" x=\"1422\" y=\"0\" width=\"30\" height=\"348\" style=\"fill: url('#gd0c3f6-cbcoloraxis');\"/></g><g class=\"cblines\" transform=\"translate(0,40)\"/><g class=\"cbaxis crisp\" transform=\"translate(0,-60)\"><g class=\"ycbcoloraxistick\"><text text-anchor=\"start\" x=\"1456.1\" y=\"6.3\" transform=\"translate(0,399.95)\" style=\"font-family: Arial; font-size: 18px; fill: rgb(255, 255, 255); fill-opacity: 1; white-space: pre; opacity: 1;\">0.2B</text></g><g class=\"ycbcoloraxistick\"><text text-anchor=\"start\" x=\"1456.1\" y=\"6.3\" style=\"font-family: Arial; font-size: 18px; fill: rgb(255, 255, 255); fill-opacity: 1; white-space: pre; opacity: 1;\" transform=\"translate(0,346.24)\">0.4B</text></g><g class=\"ycbcoloraxistick\"><text text-anchor=\"start\" x=\"1456.1\" y=\"6.3\" style=\"font-family: Arial; font-size: 18px; fill: rgb(255, 255, 255); fill-opacity: 1; white-space: pre; opacity: 1;\" transform=\"translate(0,292.52)\">0.6B</text></g><g class=\"ycbcoloraxistick\"><text text-anchor=\"start\" x=\"1456.1\" y=\"6.3\" style=\"font-family: Arial; font-size: 18px; fill: rgb(255, 255, 255); fill-opacity: 1; white-space: pre; opacity: 1;\" transform=\"translate(0,238.81)\">0.8B</text></g><g class=\"ycbcoloraxistick\"><text text-anchor=\"start\" x=\"1456.1\" y=\"6.3\" style=\"font-family: Arial; font-size: 18px; fill: rgb(255, 255, 255); fill-opacity: 1; white-space: pre; opacity: 1;\" transform=\"translate(0,185.09)\">1B</text></g><g class=\"ycbcoloraxistick\"><text text-anchor=\"start\" x=\"1456.1\" y=\"6.3\" style=\"font-family: Arial; font-size: 18px; fill: rgb(255, 255, 255); fill-opacity: 1; white-space: pre; opacity: 1;\" transform=\"translate(0,131.38)\">1.2B</text></g></g><g class=\"cbtitleunshift\" transform=\"translate(-89,-60)\"><g class=\"cbtitle\" transform=\"\"><text class=\"ycbcoloraxistitle\" x=\"1510.68\" y=\"89.5\" text-anchor=\"start\" style=\"font-family: Arial; font-size: 22px; fill: rgb(255, 255, 255); opacity: 1; font-weight: normal; white-space: pre;\">pop</text></g></g><rect class=\"cboutline\" x=\"1422\" y=\"39.5\" width=\"30\" height=\"347.5\" style=\"stroke: rgb(68, 68, 68); stroke-opacity: 1; fill: none; stroke-width: 0;\"/></g><g class=\"g-gtitle\"><text class=\"gtitle\" x=\"80\" y=\"30\" text-anchor=\"start\" dy=\"0em\" style=\"font-family: Arial; font-size: 25px; fill: rgb(255, 255, 255); opacity: 1; font-weight: normal; white-space: pre;\">Asia countries unformation</text></g><g class=\"g-xtitle\"><text class=\"xtitle\" x=\"781\" y=\"587.5865234375\" text-anchor=\"middle\" style=\"font-family: Arial; font-size: 22px; fill: rgb(255, 255, 255); opacity: 1; font-weight: normal; white-space: pre;\">COUNTRY</text></g><g class=\"g-ytitle\" transform=\"translate(7.541015625,0)\"><text class=\"ytitle\" transform=\"rotate(-90,12.459374999999994,258.5)\" x=\"12.459374999999994\" y=\"258.5\" text-anchor=\"middle\" style=\"font-family: Arial; font-size: 22px; fill: rgb(255, 255, 255); opacity: 1; font-weight: normal; white-space: pre;\">POPULATION, millions</text></g></g></svg>"
     },
     "metadata": {},
     "output_type": "display_data"
    }
   ],
   "source": [
    "fig = px.bar(\n",
    "        data_frame = df_asia,\n",
    "        x = 'country',\n",
    "        y = 'pop',\n",
    "        color = 'pop',\n",
    "        text = 'lifeExp',\n",
    "        )\n",
    "\n",
    "fig.update_traces(\n",
    "        texttemplate = '%{text:.2s}',\n",
    "        textposition = 'outside',\n",
    "        )\n",
    "fig.update_layout(\n",
    "        title = 'Asia countries unformation',\n",
    "        xaxis_title = 'COUNTRY',\n",
    "        yaxis_title = 'POPULATION, millions',\n",
    "\n",
    "        font = font_config(size = 18),\n",
    "\n",
    "        yaxis = y_axis_config,\n",
    "        yaxis_range = [0, 1_500_000_000],\n",
    "\n",
    "        xaxis = x_axis_config,\n",
    "        xaxis_tickangle = 45,\n",
    "\n",
    "        autosize = True,\n",
    "        width = 1600,\n",
    "        height = 600\n",
    "        )"
   ],
   "metadata": {
    "collapsed": false,
    "ExecuteTime": {
     "end_time": "2023-06-25T12:03:41.018554Z",
     "start_time": "2023-06-25T12:03:40.791455Z"
    }
   }
  }
 ],
 "metadata": {
  "kernelspec": {
   "display_name": "Python 3",
   "language": "python",
   "name": "python3"
  },
  "language_info": {
   "codemirror_mode": {
    "name": "ipython",
    "version": 2
   },
   "file_extension": ".py",
   "mimetype": "text/x-python",
   "name": "python",
   "nbconvert_exporter": "python",
   "pygments_lexer": "ipython2",
   "version": "2.7.6"
  }
 },
 "nbformat": 4,
 "nbformat_minor": 0
}
